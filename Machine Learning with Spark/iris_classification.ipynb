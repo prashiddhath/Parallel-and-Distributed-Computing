{
 "cells": [
  {
   "cell_type": "code",
   "metadata": {
    "tags": [],
    "cell_id": "00000-5ecfde59-5d5e-4534-b170-da0e4f2b5ace",
    "output_cleared": false,
    "source_hash": "66f71ed9",
    "execution_millis": 32035,
    "execution_start": 1605714807335,
    "deepnote_cell_type": "code"
   },
   "source": "%%bash\n$HADOOP_HOME/sbin/start-dfs.sh\n$HADOOP_HOME/sbin/start-yarn.sh\n$HADOOP_HOME/bin/mapred --daemon start historyserver",
   "execution_count": null,
   "outputs": [
    {
     "name": "stdout",
     "text": "Starting namenodes on [localhost]\nStarting datanodes\nStarting secondary namenodes [p-e9af0478-2590-480d-aeec-5261adc1b393]\nStarting resourcemanager\nStarting nodemanagers\n",
     "output_type": "stream"
    }
   ]
  },
  {
   "cell_type": "code",
   "metadata": {
    "tags": [],
    "cell_id": "00001-f6c288fb-cc2a-4dba-8e14-7b88044f7b30",
    "output_cleared": false,
    "source_hash": "b1daac85",
    "execution_millis": 12208,
    "execution_start": 1605704483713,
    "deepnote_cell_type": "code"
   },
   "source": "! $HADOOP_HOME/bin/hdfs dfs -put iris.csv",
   "execution_count": null,
   "outputs": []
  },
  {
   "cell_type": "code",
   "metadata": {
    "tags": [],
    "cell_id": "00001-6679f9eb-4e83-4b53-a22f-078fc6412cd8",
    "output_cleared": true,
    "source_hash": null,
    "execution_millis": 69,
    "execution_start": 1605708845352,
    "deepnote_cell_type": "code"
   },
   "source": "%%file iris_classification.py\nfrom pyspark.sql import SparkSession\nfrom pyspark.sql.types import *\nfrom pyspark.sql.functions import *\nfrom pyspark.ml.feature import RFormula\nfrom pyspark.ml.classification import LogisticRegression\n\nspark = SparkSession.builder.appName(\"Iris cclassification\").getOrCreate()\n\nmySchema = StructType([\n    StructField(\"sepal_length\", FloatType(), False),\n    StructField(\"sepal_width\", FloatType(), False),\n    StructField(\"petal_length\", FloatType(), False),\n    StructField(\"petal_width\", FloatType(), False),\n    StructField(\"class\", StringType(), False),\n    ])\n\ndf = spark.read.format(\"csv\").schema(mySchema).load(\"iris.csv\")\n\nformula = RFormula(formula=\"class ~ sepal_length + sepal_width + petal_length + petal_width\")\npreparedDF = formula.fit(df).transform(df)\n\ntrain, test = preparedDF.randomSplit([0.7,0.3])\n\nlr = LogisticRegression(featuresCol='features', labelCol='label')\nlrModel = lr.fit(train)\n\npredictedDF = lrModel.transform(test)\n\npredictedDF.selectExpr(\"sepal_length\",\"sepal_width\", \\\n    \"petal_length\", \"petal_width\", \"label as true_label\", \\\n    \"prediction\").sample(0.1).show()\n",
   "execution_count": null,
   "outputs": []
  },
  {
   "cell_type": "code",
   "metadata": {
    "tags": [],
    "cell_id": "00002-6a73e47e-7814-42fe-975c-ffafbeb6a5b9",
    "output_cleared": true,
    "source_hash": null,
    "execution_millis": 68212,
    "execution_start": 1605708848943,
    "deepnote_cell_type": "code"
   },
   "source": "! $SPARK_HOME/bin/spark-submit --master yarn iris_classification.py",
   "execution_count": null,
   "outputs": []
  },
  {
   "cell_type": "code",
   "metadata": {
    "tags": [],
    "cell_id": "00003-cee65112-8e33-4198-a18b-c2d6a16af25d",
    "output_cleared": true,
    "source_hash": null,
    "execution_millis": 8018,
    "execution_start": 1605110810785,
    "deepnote_cell_type": "code"
   },
   "source": "%%bash\n$HADOOP_HOME/bin/mapred --daemon stop historyserver\n$HADOOP_HOME/sbin/stop-yarn.sh\n$HADOOP_HOME/sbin/stop-dfs.sh\n",
   "execution_count": null,
   "outputs": []
  },
  {
   "cell_type": "markdown",
   "source": "<a style='text-decoration:none;line-height:16px;display:flex;color:#5B5B62;padding:10px;justify-content:end;' href='https://deepnote.com?utm_source=created-in-deepnote-cell&projectId=2e2dd3fa-79b3-4d63-ad74-397ef775c511' target=\"_blank\">\n<img alt='Created in deepnote.com' style='display:inline;max-height:16px;margin:0px;margin-right:7.5px;' src='data:image/svg+xml;base64,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' > </img>\nCreated in <span style='font-weight:600;margin-left:4px;'>Deepnote</span></a>",
   "metadata": {
    "tags": [],
    "created_in_deepnote_cell": true,
    "deepnote_cell_type": "markdown"
   }
  }
 ],
 "nbformat": 4,
 "nbformat_minor": 2,
 "metadata": {
  "orig_nbformat": 2,
  "deepnote_notebook_id": "6acb2c26-ddc8-48ad-85cb-e025e400398c",
  "deepnote_execution_queue": [],
  "deepnote": {}
 }
}