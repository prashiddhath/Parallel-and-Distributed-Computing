{
 "cells": [
  {
   "cell_type": "markdown",
   "source": "### Load necessary modules",
   "metadata": {
    "cell_id": "00000-c86e57c0-2fa7-44b8-8744-194b9d5e27bb",
    "deepnote_cell_type": "markdown"
   }
  },
  {
   "cell_type": "code",
   "metadata": {
    "cell_id": "00001-1d6e38eb-7eef-47b0-941e-2f22d5487ab8",
    "deepnote_to_be_reexecuted": false,
    "source_hash": "c97b474b",
    "execution_start": 1635253054963,
    "execution_millis": 2315,
    "deepnote_cell_type": "code"
   },
   "source": "from numba import cuda\nimport cupy as cp\nimport numpy as np\nimport math",
   "outputs": [],
   "execution_count": null
  },
  {
   "cell_type": "markdown",
   "source": "### Kernel to evaluate $y_i = x_{i}^2$",
   "metadata": {
    "cell_id": "00002-0ae3a07d-cb28-46ec-aed2-c0e83c0d62fa",
    "deepnote_cell_type": "markdown"
   }
  },
  {
   "cell_type": "code",
   "metadata": {
    "cell_id": "00003-c17db0c5-9d25-41bb-94e1-785701d617dd",
    "deepnote_to_be_reexecuted": false,
    "source_hash": "f0a0ff89",
    "execution_start": 1635253057324,
    "execution_millis": 0,
    "deepnote_cell_type": "code"
   },
   "source": "@cuda.jit\ndef eval_function(y, x, N):\n        idx = cuda.blockIdx.x * cuda.blockDim.x + cuda.threadIdx.x\n    \n        if (idx<N):\n            y[idx] = x[idx] * x[idx]",
   "outputs": [],
   "execution_count": null
  },
  {
   "cell_type": "markdown",
   "source": "### Kernel to build matrix with $a_{i,j} = \\exp\\left(-\\left(x^{(1)}_i-x^{(2)}_j\\right)^2\\right)$",
   "metadata": {
    "cell_id": "00004-021d3191-9102-48ca-8d6d-a960d862bf13",
    "deepnote_cell_type": "markdown"
   }
  },
  {
   "cell_type": "code",
   "metadata": {
    "cell_id": "00005-f7ace9cb-a81e-4680-8c54-caa47724742f",
    "deepnote_to_be_reexecuted": false,
    "source_hash": "e7691d45",
    "execution_start": 1635253057509,
    "execution_millis": 2,
    "deepnote_cell_type": "code"
   },
   "source": "@cuda.jit\ndef fill_matrix(A, X1, X2, N1, N2):\n    idx = cuda.blockIdx.x * cuda.blockDim.x + cuda.threadIdx.x\n    \n    # idx = i * N2 + j\n    \n    if (idx < N1* N2):\n        i = idx // N2\n        j = idx % N2\n        \n        A[idx] = math.exp(-(X1[i]-X2[j])*(X1[i]-X2[j]))",
   "outputs": [],
   "execution_count": null
  },
  {
   "cell_type": "markdown",
   "source": "### Train kernel ridge regression model",
   "metadata": {
    "cell_id": "00006-3d14c786-8218-487d-ac8a-57d2cc1d6541",
    "deepnote_cell_type": "markdown"
   }
  },
  {
   "cell_type": "code",
   "metadata": {
    "cell_id": "00007-72c1b256-76a4-4c2d-bcbf-5b780a5e6457",
    "deepnote_to_be_reexecuted": false,
    "source_hash": "f17cb4e4",
    "execution_start": 1635253058969,
    "execution_millis": 59887,
    "deepnote_cell_type": "code"
   },
   "source": "N = 10\n\ncp.random.seed(0)\n\nA = cp.empty(N*N)  # building 1D arrray for kernel\nX = cp.random.rand(N)\nY = cp.empty(N)\n\n# evaluating function to get outputs\nblock_size = 1024;\ngrid_size = (N*N + (block_size-1)) // block_size\nfill_matrix[grid_size,block_size](A, X, X, N, N)\ncuda.synchronize()\n\n# fill kernel matrix\nblock_size = 1024;\ngrid_size = (N + (block_size-1)) // block_size\neval_function[grid_size,block_size](Y, X, N)\ncuda.synchronize()\n\nA = np.reshape(A,(N,N)) # reindexing 1D array to matrix\n\nalpha = cp.linalg.solve(A, Y)",
   "outputs": [],
   "execution_count": null
  },
  {
   "cell_type": "markdown",
   "source": "### Evaluate prediction error",
   "metadata": {
    "cell_id": "00008-35a2aa28-2479-4f7c-8f42-dcd1b4db1d9e",
    "deepnote_cell_type": "markdown"
   }
  },
  {
   "cell_type": "code",
   "metadata": {
    "cell_id": "00009-1b59d8e1-20ac-4b8c-b9a6-e9c04709f116",
    "deepnote_to_be_reexecuted": false,
    "source_hash": "2398ad37",
    "execution_start": 1635253118901,
    "execution_millis": 1049,
    "deepnote_cell_type": "code"
   },
   "source": "N_eval = 10000\n\ncp.random.seed(42)\nX_eval = cp.random.rand(N_eval)\nY_exact = cp.empty(N_eval)\nY_eval = cp.empty(N_eval)\n\n# evaluate function to get exact solution\nblock_size = 1024;\ngrid_size = (N_eval + (block_size-1)) // block_size\neval_function[grid_size,block_size](Y_exact, X_eval, N_eval)\ncuda.synchronize()\n\n# allocate evaluation matrix\nA_eval = cp.empty(N_eval*N)\n\n# fill evaluation matrix\nblock_size = 1024;\ngrid_size = (N_eval*N + (block_size-1)) // block_size\nfill_matrix[grid_size,block_size](A_eval, X_eval, X, N_eval, N)\ncuda.synchronize()\n\nA_eval = cp.reshape(A_eval,(N_eval,N)) # reindexing 1D array to matrix\n\n# evaluate trained model\nY_eval = A_eval @ alpha\n\n# compute error\nerror = ((Y_exact - Y_eval) * (Y_exact - Y_eval)).sum() / N_eval\n\nprint(\"error: %e\" % error)",
   "outputs": [
    {
     "name": "stdout",
     "text": "error: 8.346831e-09\n",
     "output_type": "stream"
    }
   ],
   "execution_count": null
  },
  {
   "cell_type": "markdown",
   "source": "<a style='text-decoration:none;line-height:16px;display:flex;color:#5B5B62;padding:10px;justify-content:end;' href='https://deepnote.com?utm_source=created-in-deepnote-cell&projectId=a8cf5cf7-1e95-4ea0-8cd8-79ded01cd257' target=\"_blank\">\n<img alt='Created in deepnote.com' style='display:inline;max-height:16px;margin:0px;margin-right:7.5px;' src='data:image/svg+xml;base64,PD94bWwgdmVyc2lvbj0iMS4wIiBlbmNvZGluZz0iVVRGLTgiPz4KPHN2ZyB3aWR0aD0iODBweCIgaGVpZ2h0PSI4MHB4IiB2aWV3Qm94PSIwIDAgODAgODAiIHZlcnNpb249IjEuMSIgeG1sbnM9Imh0dHA6Ly93d3cudzMub3JnLzIwMDAvc3ZnIiB4bWxuczp4bGluaz0iaHR0cDovL3d3dy53My5vcmcvMTk5OS94bGluayI+CiAgICA8IS0tIEdlbmVyYXRvcjogU2tldGNoIDU0LjEgKDc2NDkwKSAtIGh0dHBzOi8vc2tldGNoYXBwLmNvbSAtLT4KICAgIDx0aXRsZT5Hcm91cCAzPC90aXRsZT4KICAgIDxkZXNjPkNyZWF0ZWQgd2l0aCBTa2V0Y2guPC9kZXNjPgogICAgPGcgaWQ9IkxhbmRpbmciIHN0cm9rZT0ibm9uZSIgc3Ryb2tlLXdpZHRoPSIxIiBmaWxsPSJub25lIiBmaWxsLXJ1bGU9ImV2ZW5vZGQiPgogICAgICAgIDxnIGlkPSJBcnRib2FyZCIgdHJhbnNmb3JtPSJ0cmFuc2xhdGUoLTEyMzUuMDAwMDAwLCAtNzkuMDAwMDAwKSI+CiAgICAgICAgICAgIDxnIGlkPSJHcm91cC0zIiB0cmFuc2Zvcm09InRyYW5zbGF0ZSgxMjM1LjAwMDAwMCwgNzkuMDAwMDAwKSI+CiAgICAgICAgICAgICAgICA8cG9seWdvbiBpZD0iUGF0aC0yMCIgZmlsbD0iIzAyNjVCNCIgcG9pbnRzPSIyLjM3NjIzNzYyIDgwIDM4LjA0NzY2NjcgODAgNTcuODIxNzgyMiA3My44MDU3NTkyIDU3LjgyMTc4MjIgMzIuNzU5MjczOSAzOS4xNDAyMjc4IDMxLjY4MzE2ODMiPjwvcG9seWdvbj4KICAgICAgICAgICAgICAgIDxwYXRoIGQ9Ik0zNS4wMDc3MTgsODAgQzQyLjkwNjIwMDcsNzYuNDU0OTM1OCA0Ny41NjQ5MTY3LDcxLjU0MjI2NzEgNDguOTgzODY2LDY1LjI2MTk5MzkgQzUxLjExMjI4OTksNTUuODQxNTg0MiA0MS42NzcxNzk1LDQ5LjIxMjIyODQgMjUuNjIzOTg0Niw0OS4yMTIyMjg0IEMyNS40ODQ5Mjg5LDQ5LjEyNjg0NDggMjkuODI2MTI5Niw0My4yODM4MjQ4IDM4LjY0NzU4NjksMzEuNjgzMTY4MyBMNzIuODcxMjg3MSwzMi41NTQ0MjUgTDY1LjI4MDk3Myw2Ny42NzYzNDIxIEw1MS4xMTIyODk5LDc3LjM3NjE0NCBMMzUuMDA3NzE4LDgwIFoiIGlkPSJQYXRoLTIyIiBmaWxsPSIjMDAyODY4Ij48L3BhdGg+CiAgICAgICAgICAgICAgICA8cGF0aCBkPSJNMCwzNy43MzA0NDA1IEwyNy4xMTQ1MzcsMC4yNTcxMTE0MzYgQzYyLjM3MTUxMjMsLTEuOTkwNzE3MDEgODAsMTAuNTAwMzkyNyA4MCwzNy43MzA0NDA1IEM4MCw2NC45NjA0ODgyIDY0Ljc3NjUwMzgsNzkuMDUwMzQxNCAzNC4zMjk1MTEzLDgwIEM0Ny4wNTUzNDg5LDc3LjU2NzA4MDggNTMuNDE4MjY3Nyw3MC4zMTM2MTAzIDUzLjQxODI2NzcsNTguMjM5NTg4NSBDNTMuNDE4MjY3Nyw0MC4xMjg1NTU3IDM2LjMwMzk1NDQsMzcuNzMwNDQwNSAyNS4yMjc0MTcsMzcuNzMwNDQwNSBDMTcuODQzMDU4NiwzNy43MzA0NDA1IDkuNDMzOTE5NjYsMzcuNzMwNDQwNSAwLDM3LjczMDQ0MDUgWiIgaWQ9IlBhdGgtMTkiIGZpbGw9IiMzNzkzRUYiPjwvcGF0aD4KICAgICAgICAgICAgPC9nPgogICAgICAgIDwvZz4KICAgIDwvZz4KPC9zdmc+' > </img>\nCreated in <span style='font-weight:600;margin-left:4px;'>Deepnote</span></a>",
   "metadata": {
    "tags": [],
    "created_in_deepnote_cell": true,
    "deepnote_cell_type": "markdown"
   }
  }
 ],
 "nbformat": 4,
 "nbformat_minor": 4,
 "metadata": {
  "kernelspec": {
   "display_name": "Python 3",
   "language": "python",
   "name": "python3"
  },
  "language_info": {
   "codemirror_mode": {
    "name": "ipython",
    "version": 3
   },
   "file_extension": ".py",
   "mimetype": "text/x-python",
   "name": "python",
   "nbconvert_exporter": "python",
   "pygments_lexer": "ipython3",
   "version": "3.7.4"
  },
  "deepnote_notebook_id": "0a488341-7753-482a-9705-fd5c8cfbc63b",
  "deepnote": {},
  "deepnote_execution_queue": []
 }
}