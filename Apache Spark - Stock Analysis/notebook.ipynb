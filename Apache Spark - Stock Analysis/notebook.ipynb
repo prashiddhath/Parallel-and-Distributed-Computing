{
 "cells": [
  {
   "cell_type": "code",
   "metadata": {
    "tags": [],
    "cell_id": "00000-79c2dd4e-f0d2-46ef-9853-50215addc963",
    "output_cleared": false,
    "source_hash": "d9941ee7",
    "execution_millis": 4051,
    "execution_start": 1639164306914,
    "deepnote_to_be_reexecuted": false,
    "deepnote_cell_type": "code"
   },
   "source": "! pip install yfinance",
   "execution_count": null,
   "outputs": [
    {
     "name": "stdout",
     "text": "Collecting yfinance\n  Downloading yfinance-0.1.67-py2.py3-none-any.whl (25 kB)\nRequirement already satisfied: numpy>=1.15 in /shared-libs/python3.7/py/lib/python3.7/site-packages (from yfinance) (1.19.5)\nRequirement already satisfied: pandas>=0.24 in /shared-libs/python3.7/py/lib/python3.7/site-packages (from yfinance) (1.2.5)\nRequirement already satisfied: requests>=2.20 in /shared-libs/python3.7/py/lib/python3.7/site-packages (from yfinance) (2.26.0)\nRequirement already satisfied: lxml>=4.5.1 in /shared-libs/python3.7/py/lib/python3.7/site-packages (from yfinance) (4.6.4)\nCollecting multitasking>=0.0.7\n  Downloading multitasking-0.0.10.tar.gz (8.2 kB)\nRequirement already satisfied: python-dateutil>=2.7.3 in /shared-libs/python3.7/py-core/lib/python3.7/site-packages (from pandas>=0.24->yfinance) (2.8.2)\nRequirement already satisfied: pytz>=2017.3 in /shared-libs/python3.7/py/lib/python3.7/site-packages (from pandas>=0.24->yfinance) (2021.3)\nRequirement already satisfied: urllib3<1.27,>=1.21.1 in /shared-libs/python3.7/py/lib/python3.7/site-packages (from requests>=2.20->yfinance) (1.26.7)\nRequirement already satisfied: charset-normalizer~=2.0.0; python_version >= \"3\" in /shared-libs/python3.7/py-core/lib/python3.7/site-packages (from requests>=2.20->yfinance) (2.0.7)\nRequirement already satisfied: idna<4,>=2.5; python_version >= \"3\" in /shared-libs/python3.7/py-core/lib/python3.7/site-packages (from requests>=2.20->yfinance) (3.3)\nRequirement already satisfied: certifi>=2017.4.17 in /shared-libs/python3.7/py/lib/python3.7/site-packages (from requests>=2.20->yfinance) (2021.10.8)\nRequirement already satisfied: six>=1.5 in /shared-libs/python3.7/py-core/lib/python3.7/site-packages (from python-dateutil>=2.7.3->pandas>=0.24->yfinance) (1.16.0)\nBuilding wheels for collected packages: multitasking\n  Building wheel for multitasking (setup.py) ... \u001b[?25ldone\n\u001b[?25h  Created wheel for multitasking: filename=multitasking-0.0.10-py3-none-any.whl size=8488 sha256=344a23887bdc7f45b74f443aff98be00f844e56d923bee8f9cca3413871c1c09\n  Stored in directory: /root/.cache/pip/wheels/34/ba/79/c0260c6f1a03f420ec7673eff9981778f293b9107974679e36\nSuccessfully built multitasking\nInstalling collected packages: multitasking, yfinance\nSuccessfully installed multitasking-0.0.10 yfinance-0.1.67\n\u001b[33mWARNING: You are using pip version 20.1.1; however, version 21.3.1 is available.\nYou should consider upgrading via the '/root/venv/bin/python -m pip install --upgrade pip' command.\u001b[0m\n",
     "output_type": "stream"
    }
   ]
  },
  {
   "cell_type": "code",
   "metadata": {
    "tags": [],
    "cell_id": "00000-b8b53850-8a01-49c0-bf99-5bca599aaad1",
    "output_cleared": false,
    "source_hash": "197b9eeb",
    "execution_millis": 559,
    "execution_start": 1639164310970,
    "deepnote_to_be_reexecuted": false,
    "deepnote_cell_type": "code"
   },
   "source": "import yfinance as yf\ndata = yf.download(\"AAPL IBM\", start=\"2009-01-01\", end=\"2019-12-31\")",
   "execution_count": null,
   "outputs": [
    {
     "name": "stdout",
     "text": "[*********************100%***********************]  2 of 2 completed\n",
     "output_type": "stream"
    }
   ]
  },
  {
   "cell_type": "code",
   "metadata": {
    "tags": [],
    "cell_id": "00000-6e06ac0d-094d-4ac2-8243-31b0ef3050f5",
    "output_cleared": false,
    "source_hash": "4d005807",
    "execution_millis": 62,
    "execution_start": 1639164311530,
    "deepnote_to_be_reexecuted": false,
    "deepnote_cell_type": "code"
   },
   "source": "data['Open']",
   "execution_count": null,
   "outputs": [
    {
     "output_type": "execute_result",
     "execution_count": 3,
     "data": {
      "application/vnd.deepnote.dataframe.v2+json": {
       "row_count": 2767,
       "column_count": 2,
       "columns": [
        {
         "name": "AAPL",
         "dtype": "float64",
         "stats": {
          "unique_count": 2638,
          "nan_count": 0,
          "min": "11.34142780303955",
          "max": "291.1199951171875",
          "histogram": [
           {
            "bin_start": 11.34142780303955,
            "bin_end": 39.31928453445435,
            "count": 429
           },
           {
            "bin_start": 39.31928453445435,
            "bin_end": 67.29714126586914,
            "count": 497
           },
           {
            "bin_start": 67.29714126586914,
            "bin_end": 95.27499799728395,
            "count": 480
           },
           {
            "bin_start": 95.27499799728395,
            "bin_end": 123.25285472869874,
            "count": 518
           },
           {
            "bin_start": 123.25285472869874,
            "bin_end": 151.23071146011353,
            "count": 218
           },
           {
            "bin_start": 151.23071146011353,
            "bin_end": 179.20856819152834,
            "count": 279
           },
           {
            "bin_start": 179.20856819152834,
            "bin_end": 207.18642492294313,
            "count": 180
           },
           {
            "bin_start": 207.18642492294313,
            "bin_end": 235.16428165435792,
            "count": 116
           },
           {
            "bin_start": 235.16428165435792,
            "bin_end": 263.1421383857727,
            "count": 23
           },
           {
            "bin_start": 263.1421383857727,
            "bin_end": 291.1199951171875,
            "count": 27
           }
          ]
         }
        },
        {
         "name": "IBM",
         "dtype": "float64",
         "stats": {
          "unique_count": 2375,
          "nan_count": 0,
          "min": "83.61000061035156",
          "max": "215.3800048828125",
          "histogram": [
           {
            "bin_start": 83.61000061035156,
            "bin_end": 96.78700103759766,
            "count": 59
           },
           {
            "bin_start": 96.78700103759766,
            "bin_end": 109.96400146484375,
            "count": 78
           },
           {
            "bin_start": 109.96400146484375,
            "bin_end": 123.14100189208985,
            "count": 137
           },
           {
            "bin_start": 123.14100189208985,
            "bin_end": 136.31800231933593,
            "count": 394
           },
           {
            "bin_start": 136.31800231933593,
            "bin_end": 149.49500274658203,
            "count": 495
           },
           {
            "bin_start": 149.49500274658203,
            "bin_end": 162.67200317382813,
            "count": 495
           },
           {
            "bin_start": 162.67200317382813,
            "bin_end": 175.84900360107423,
            "count": 309
           },
           {
            "bin_start": 175.84900360107423,
            "bin_end": 189.0260040283203,
            "count": 320
           },
           {
            "bin_start": 189.0260040283203,
            "bin_end": 202.20300445556643,
            "count": 347
           },
           {
            "bin_start": 202.20300445556643,
            "bin_end": 215.3800048828125,
            "count": 133
           }
          ]
         }
        },
        {
         "name": "_deepnote_index_column",
         "dtype": "datetime64[ns]"
        }
       ],
       "rows_top": [
        {
         "AAPL": 12.268570899963379,
         "IBM": 83.88999938964844,
         "_deepnote_index_column": "2009-01-02T00:00:00.000000"
        },
        {
         "AAPL": 13.3100004196167,
         "IBM": 86.41999816894531,
         "_deepnote_index_column": "2009-01-05T00:00:00.000000"
        },
        {
         "AAPL": 13.707141876220703,
         "IBM": 87.11000061035156,
         "_deepnote_index_column": "2009-01-06T00:00:00.000000"
        },
        {
         "AAPL": 13.115714073181152,
         "IBM": 87.83000183105469,
         "_deepnote_index_column": "2009-01-07T00:00:00.000000"
        },
        {
         "AAPL": 12.918571472167969,
         "IBM": 87.80999755859375,
         "_deepnote_index_column": "2009-01-08T00:00:00.000000"
        },
        {
         "AAPL": 13.315713882446289,
         "IBM": 87.05000305175781,
         "_deepnote_index_column": "2009-01-09T00:00:00.000000"
        },
        {
         "AAPL": 12.922857284545898,
         "IBM": 84.56999969482422,
         "_deepnote_index_column": "2009-01-12T00:00:00.000000"
        },
        {
         "AAPL": 12.605713844299316,
         "IBM": 85.5,
         "_deepnote_index_column": "2009-01-13T00:00:00.000000"
        },
        {
         "AAPL": 12.319999694824219,
         "IBM": 84.19999694824219,
         "_deepnote_index_column": "2009-01-14T00:00:00.000000"
        },
        {
         "AAPL": 11.510000228881836,
         "IBM": 83.61000061035156,
         "_deepnote_index_column": "2009-01-15T00:00:00.000000"
        },
        {
         "AAPL": 12.04285717010498,
         "IBM": 84.61000061035156,
         "_deepnote_index_column": "2009-01-16T00:00:00.000000"
        },
        {
         "AAPL": 11.70428466796875,
         "IBM": 84.76000213623047,
         "_deepnote_index_column": "2009-01-20T00:00:00.000000"
        },
        {
         "AAPL": 11.34142780303955,
         "IBM": 86.29000091552734,
         "_deepnote_index_column": "2009-01-21T00:00:00.000000"
        },
        {
         "AAPL": 12.577141761779785,
         "IBM": 89.83000183105469,
         "_deepnote_index_column": "2009-01-22T00:00:00.000000"
        },
        {
         "AAPL": 12.402856826782227,
         "IBM": 88.4000015258789,
         "_deepnote_index_column": "2009-01-23T00:00:00.000000"
        },
        {
         "AAPL": 12.69428539276123,
         "IBM": 89.7699966430664,
         "_deepnote_index_column": "2009-01-26T00:00:00.000000"
        },
        {
         "AAPL": 12.884284973144531,
         "IBM": 91.7699966430664,
         "_deepnote_index_column": "2009-01-27T00:00:00.000000"
        },
        {
         "AAPL": 13.15999984741211,
         "IBM": 92.69999694824219,
         "_deepnote_index_column": "2009-01-28T00:00:00.000000"
        },
        {
         "AAPL": 13.29857063293457,
         "IBM": 93.58000183105469,
         "_deepnote_index_column": "2009-01-29T00:00:00.000000"
        },
        {
         "AAPL": 13.228570938110352,
         "IBM": 92.2300033569336,
         "_deepnote_index_column": "2009-01-30T00:00:00.000000"
        },
        {
         "AAPL": 12.728570938110352,
         "IBM": 90.5999984741211,
         "_deepnote_index_column": "2009-02-02T00:00:00.000000"
        },
        {
         "AAPL": 13.131427764892578,
         "IBM": 91.06999969482422,
         "_deepnote_index_column": "2009-02-03T00:00:00.000000"
        },
        {
         "AAPL": 13.31714153289795,
         "IBM": 93.73999786376953,
         "_deepnote_index_column": "2009-02-04T00:00:00.000000"
        },
        {
         "AAPL": 13.252857208251953,
         "IBM": 92.12999725341797,
         "_deepnote_index_column": "2009-02-05T00:00:00.000000"
        },
        {
         "AAPL": 13.859999656677246,
         "IBM": 92.51000213623047,
         "_deepnote_index_column": "2009-02-06T00:00:00.000000"
        },
        {
         "AAPL": 14.285714149475098,
         "IBM": 95.93000030517578,
         "_deepnote_index_column": "2009-02-09T00:00:00.000000"
        },
        {
         "AAPL": 14.475713729858398,
         "IBM": 95.58000183105469,
         "_deepnote_index_column": "2009-02-10T00:00:00.000000"
        },
        {
         "AAPL": 13.767142295837402,
         "IBM": 93.4800033569336,
         "_deepnote_index_column": "2009-02-11T00:00:00.000000"
        },
        {
         "AAPL": 13.6899995803833,
         "IBM": 94.41000366210938,
         "_deepnote_index_column": "2009-02-12T00:00:00.000000"
        },
        {
         "AAPL": 14.141427993774414,
         "IBM": 94.79000091552734,
         "_deepnote_index_column": "2009-02-13T00:00:00.000000"
        },
        {
         "AAPL": 13.838570594787598,
         "IBM": 91.7300033569336,
         "_deepnote_index_column": "2009-02-17T00:00:00.000000"
        },
        {
         "AAPL": 13.578571319580078,
         "IBM": 91.16999816894531,
         "_deepnote_index_column": "2009-02-18T00:00:00.000000"
        },
        {
         "AAPL": 13.338570594787598,
         "IBM": 91.05999755859375,
         "_deepnote_index_column": "2009-02-19T00:00:00.000000"
        },
        {
         "AAPL": 12.771428108215332,
         "IBM": 88.05000305175781,
         "_deepnote_index_column": "2009-02-20T00:00:00.000000"
        },
        {
         "AAPL": 13.092857360839844,
         "IBM": 89.30000305175781,
         "_deepnote_index_column": "2009-02-23T00:00:00.000000"
        },
        {
         "AAPL": 12.492500305175781,
         "IBM": 84.62999725341797,
         "_deepnote_index_column": "2009-02-24T00:00:00.000000"
        },
        {
         "AAPL": 12.837141990661621,
         "IBM": 86,
         "_deepnote_index_column": "2009-02-25T00:00:00.000000"
        },
        {
         "AAPL": 13.14285659790039,
         "IBM": 86.8499984741211,
         "_deepnote_index_column": "2009-02-26T00:00:00.000000"
        },
        {
         "AAPL": 12.56142807006836,
         "IBM": 88.12000274658203,
         "_deepnote_index_column": "2009-02-27T00:00:00.000000"
        },
        {
         "AAPL": 12.588570594787598,
         "IBM": 91.16999816894531,
         "_deepnote_index_column": "2009-03-02T00:00:00.000000"
        },
        {
         "AAPL": 12.70428466796875,
         "IBM": 90.16000366210938,
         "_deepnote_index_column": "2009-03-03T00:00:00.000000"
        },
        {
         "AAPL": 12.882857322692871,
         "IBM": 88.97000122070312,
         "_deepnote_index_column": "2009-03-04T00:00:00.000000"
        },
        {
         "AAPL": 12.922857284545898,
         "IBM": 88.12999725341797,
         "_deepnote_index_column": "2009-03-05T00:00:00.000000"
        },
        {
         "AAPL": 12.619999885559082,
         "IBM": 87.47000122070312,
         "_deepnote_index_column": "2009-03-06T00:00:00.000000"
        },
        {
         "AAPL": 12.025713920593262,
         "IBM": 84.69999694824219,
         "_deepnote_index_column": "2009-03-09T00:00:00.000000"
        },
        {
         "AAPL": 12.124284744262695,
         "IBM": 85.11000061035156,
         "_deepnote_index_column": "2009-03-10T00:00:00.000000"
        },
        {
         "AAPL": 12.829999923706055,
         "IBM": 87.51000213623047,
         "_deepnote_index_column": "2009-03-11T00:00:00.000000"
        },
        {
         "AAPL": 13.271428108215332,
         "IBM": 88.58999633789062,
         "_deepnote_index_column": "2009-03-12T00:00:00.000000"
        },
        {
         "AAPL": 13.757142066955566,
         "IBM": 90.4000015258789,
         "_deepnote_index_column": "2009-03-13T00:00:00.000000"
        },
        {
         "AAPL": 13.789999961853027,
         "IBM": 91.6500015258789,
         "_deepnote_index_column": "2009-03-16T00:00:00.000000"
        },
        {
         "AAPL": 13.605713844299316,
         "IBM": 91.11000061035156,
         "_deepnote_index_column": "2009-03-17T00:00:00.000000"
        },
        {
         "AAPL": 14.272856712341309,
         "IBM": 89.45999908447266,
         "_deepnote_index_column": "2009-03-18T00:00:00.000000"
        },
        {
         "AAPL": 14.550000190734863,
         "IBM": 92.83999633789062,
         "_deepnote_index_column": "2009-03-19T00:00:00.000000"
        },
        {
         "AAPL": 14.584284782409668,
         "IBM": 93.16000366210938,
         "_deepnote_index_column": "2009-03-20T00:00:00.000000"
        },
        {
         "AAPL": 14.672857284545898,
         "IBM": 93.69999694824219,
         "_deepnote_index_column": "2009-03-23T00:00:00.000000"
        },
        {
         "AAPL": 15.19428539276123,
         "IBM": 97.69000244140625,
         "_deepnote_index_column": "2009-03-24T00:00:00.000000"
        },
        {
         "AAPL": 15.368571281433105,
         "IBM": 98.47000122070312,
         "_deepnote_index_column": "2009-03-25T00:00:00.000000"
        },
        {
         "AAPL": 15.404285430908203,
         "IBM": 98.47000122070312,
         "_deepnote_index_column": "2009-03-26T00:00:00.000000"
        },
        {
         "AAPL": 15.461427688598633,
         "IBM": 95.98999786376953,
         "_deepnote_index_column": "2009-03-27T00:00:00.000000"
        },
        {
         "AAPL": 14.930000305175781,
         "IBM": 92,
         "_deepnote_index_column": "2009-03-30T00:00:00.000000"
        },
        {
         "AAPL": 15.064285278320312,
         "IBM": 94.95999908447266,
         "_deepnote_index_column": "2009-03-31T00:00:00.000000"
        },
        {
         "AAPL": 14.869999885559082,
         "IBM": 96.12999725341797,
         "_deepnote_index_column": "2009-04-01T00:00:00.000000"
        },
        {
         "AAPL": 15.734999656677246,
         "IBM": 99.1500015258789,
         "_deepnote_index_column": "2009-04-02T00:00:00.000000"
        },
        {
         "AAPL": 16.312856674194336,
         "IBM": 99.7300033569336,
         "_deepnote_index_column": "2009-04-03T00:00:00.000000"
        },
        {
         "AAPL": 16.420000076293945,
         "IBM": 100.9000015258789,
         "_deepnote_index_column": "2009-04-06T00:00:00.000000"
        },
        {
         "AAPL": 16.64714241027832,
         "IBM": 100.17250061035156,
         "_deepnote_index_column": "2009-04-07T00:00:00.000000"
        },
        {
         "AAPL": 16.489999771118164,
         "IBM": 99.44999694824219,
         "_deepnote_index_column": "2009-04-08T00:00:00.000000"
        },
        {
         "AAPL": 16.917142868041992,
         "IBM": 102.01000213623047,
         "_deepnote_index_column": "2009-04-09T00:00:00.000000"
        },
        {
         "AAPL": 17.144285202026367,
         "IBM": 100.27999877929688,
         "_deepnote_index_column": "2009-04-13T00:00:00.000000"
        },
        {
         "AAPL": 17.08142852783203,
         "IBM": 99.08000183105469,
         "_deepnote_index_column": "2009-04-14T00:00:00.000000"
        },
        {
         "AAPL": 16.742856979370117,
         "IBM": 98.2300033569336,
         "_deepnote_index_column": "2009-04-15T00:00:00.000000"
        },
        {
         "AAPL": 17.027141571044922,
         "IBM": 99.73999786376953,
         "_deepnote_index_column": "2009-04-16T00:00:00.000000"
        },
        {
         "AAPL": 17.31142807006836,
         "IBM": 101.18000030517578,
         "_deepnote_index_column": "2009-04-17T00:00:00.000000"
        },
        {
         "AAPL": 17.389999389648438,
         "IBM": 100.29000091552734,
         "_deepnote_index_column": "2009-04-20T00:00:00.000000"
        },
        {
         "AAPL": 16.984285354614258,
         "IBM": 98.41000366210938,
         "_deepnote_index_column": "2009-04-21T00:00:00.000000"
        },
        {
         "AAPL": 17.518571853637695,
         "IBM": 101.16999816894531,
         "_deepnote_index_column": "2009-04-22T00:00:00.000000"
        },
        {
         "AAPL": 18.088571548461914,
         "IBM": 102.6500015258789,
         "_deepnote_index_column": "2009-04-23T00:00:00.000000"
        },
        {
         "AAPL": 17.805713653564453,
         "IBM": 101.16999816894531,
         "_deepnote_index_column": "2009-04-24T00:00:00.000000"
        },
        {
         "AAPL": 17.55714225769043,
         "IBM": 99.61000061035156,
         "_deepnote_index_column": "2009-04-27T00:00:00.000000"
        },
        {
         "AAPL": 17.621442794799805,
         "IBM": 99.36000061035156,
         "_deepnote_index_column": "2009-04-28T00:00:00.000000"
        },
        {
         "AAPL": 17.83571434020996,
         "IBM": 101.9800033569336,
         "_deepnote_index_column": "2009-04-29T00:00:00.000000"
        },
        {
         "AAPL": 18.03142738342285,
         "IBM": 104.55000305175781,
         "_deepnote_index_column": "2009-04-30T00:00:00.000000"
        },
        {
         "AAPL": 17.97142791748047,
         "IBM": 103.77999877929688,
         "_deepnote_index_column": "2009-05-01T00:00:00.000000"
        },
        {
         "AAPL": 18.31999969482422,
         "IBM": 105.26000213623047,
         "_deepnote_index_column": "2009-05-04T00:00:00.000000"
        },
        {
         "AAPL": 18.821428298950195,
         "IBM": 106,
         "_deepnote_index_column": "2009-05-05T00:00:00.000000"
        },
        {
         "AAPL": 19.047142028808594,
         "IBM": 105.2300033569336,
         "_deepnote_index_column": "2009-05-06T00:00:00.000000"
        },
        {
         "AAPL": 18.904285430908203,
         "IBM": 104.6500015258789,
         "_deepnote_index_column": "2009-05-07T00:00:00.000000"
        },
        {
         "AAPL": 18.434284210205078,
         "IBM": 103.58000183105469,
         "_deepnote_index_column": "2009-05-08T00:00:00.000000"
        },
        {
         "AAPL": 18.195714950561523,
         "IBM": 101.08999633789062,
         "_deepnote_index_column": "2009-05-11T00:00:00.000000"
        },
        {
         "AAPL": 18.50857162475586,
         "IBM": 102.9800033569336,
         "_deepnote_index_column": "2009-05-12T00:00:00.000000"
        },
        {
         "AAPL": 17.60142707824707,
         "IBM": 102.87999725341797,
         "_deepnote_index_column": "2009-05-13T00:00:00.000000"
        },
        {
         "AAPL": 17.111427307128906,
         "IBM": 101.72000122070312,
         "_deepnote_index_column": "2009-05-14T00:00:00.000000"
        },
        {
         "AAPL": 17.474285125732422,
         "IBM": 100.9000015258789,
         "_deepnote_index_column": "2009-05-15T00:00:00.000000"
        },
        {
         "AAPL": 17.67571449279785,
         "IBM": 102,
         "_deepnote_index_column": "2009-05-18T00:00:00.000000"
        },
        {
         "AAPL": 18.117141723632812,
         "IBM": 104.33000183105469,
         "_deepnote_index_column": "2009-05-19T00:00:00.000000"
        },
        {
         "AAPL": 18.23285675048828,
         "IBM": 105.51000213623047,
         "_deepnote_index_column": "2009-05-20T00:00:00.000000"
        },
        {
         "AAPL": 17.878570556640625,
         "IBM": 103.06999969482422,
         "_deepnote_index_column": "2009-05-21T00:00:00.000000"
        },
        {
         "AAPL": 17.72142791748047,
         "IBM": 102.66999816894531,
         "_deepnote_index_column": "2009-05-22T00:00:00.000000"
        },
        {
         "AAPL": 17.822856903076172,
         "IBM": 101.31999969482422,
         "_deepnote_index_column": "2009-05-26T00:00:00.000000"
        },
        {
         "AAPL": 18.825714111328125,
         "IBM": 104.33999633789062,
         "_deepnote_index_column": "2009-05-27T00:00:00.000000"
        },
        {
         "AAPL": 19.064285278320312,
         "IBM": 103.33999633789062,
         "_deepnote_index_column": "2009-05-28T00:00:00.000000"
        },
        {
         "AAPL": 19.341428756713867,
         "IBM": 104.47000122070312,
         "_deepnote_index_column": "2009-05-29T00:00:00.000000"
        },
        {
         "AAPL": 19.49571418762207,
         "IBM": 106.94000244140625,
         "_deepnote_index_column": "2009-06-01T00:00:00.000000"
        },
        {
         "AAPL": 19.855714797973633,
         "IBM": 107.51000213623047,
         "_deepnote_index_column": "2009-06-02T00:00:00.000000"
        },
        {
         "AAPL": 20,
         "IBM": 106.52999877929688,
         "_deepnote_index_column": "2009-06-03T00:00:00.000000"
        },
        {
         "AAPL": 20.018571853637695,
         "IBM": 106.16999816894531,
         "_deepnote_index_column": "2009-06-04T00:00:00.000000"
        },
        {
         "AAPL": 20.75857162475586,
         "IBM": 107.33000183105469,
         "_deepnote_index_column": "2009-06-05T00:00:00.000000"
        },
        {
         "AAPL": 20.545713424682617,
         "IBM": 106.63999938964844,
         "_deepnote_index_column": "2009-06-08T00:00:00.000000"
        },
        {
         "AAPL": 20.54428482055664,
         "IBM": 108.1500015258789,
         "_deepnote_index_column": "2009-06-09T00:00:00.000000"
        },
        {
         "AAPL": 20.325714111328125,
         "IBM": 109.19999694824219,
         "_deepnote_index_column": "2009-06-10T00:00:00.000000"
        },
        {
         "AAPL": 19.935714721679688,
         "IBM": 108.75,
         "_deepnote_index_column": "2009-06-11T00:00:00.000000"
        },
        {
         "AAPL": 19.829999923706055,
         "IBM": 108.4000015258789,
         "_deepnote_index_column": "2009-06-12T00:00:00.000000"
        },
        {
         "AAPL": 19.43000030517578,
         "IBM": 107.62999725341797,
         "_deepnote_index_column": "2009-06-15T00:00:00.000000"
        },
        {
         "AAPL": 19.522857666015625,
         "IBM": 108.47000122070312,
         "_deepnote_index_column": "2009-06-16T00:00:00.000000"
        },
        {
         "AAPL": 19.52428436279297,
         "IBM": 107.45999908447266,
         "_deepnote_index_column": "2009-06-17T00:00:00.000000"
        },
        {
         "AAPL": 19.444284439086914,
         "IBM": 106.93000030517578,
         "_deepnote_index_column": "2009-06-18T00:00:00.000000"
        },
        {
         "AAPL": 19.724285125732422,
         "IBM": 106.30999755859375,
         "_deepnote_index_column": "2009-06-19T00:00:00.000000"
        },
        {
         "AAPL": 20.095714569091797,
         "IBM": 105.18000030517578,
         "_deepnote_index_column": "2009-06-22T00:00:00.000000"
        },
        {
         "AAPL": 19.485713958740234,
         "IBM": 104.75,
         "_deepnote_index_column": "2009-06-23T00:00:00.000000"
        },
        {
         "AAPL": 19.345714569091797,
         "IBM": 105.38999938964844,
         "_deepnote_index_column": "2009-06-24T00:00:00.000000"
        },
        {
         "AAPL": 19.39285659790039,
         "IBM": 103.69999694824219,
         "_deepnote_index_column": "2009-06-25T00:00:00.000000"
        },
        {
         "AAPL": 19.969999313354492,
         "IBM": 106.5,
         "_deepnote_index_column": "2009-06-26T00:00:00.000000"
        },
        {
         "AAPL": 20.494285583496094,
         "IBM": 105.98999786376953,
         "_deepnote_index_column": "2009-06-29T00:00:00.000000"
        },
        {
         "AAPL": 20.36857032775879,
         "IBM": 105.69000244140625,
         "_deepnote_index_column": "2009-06-30T00:00:00.000000"
        },
        {
         "AAPL": 20.5,
         "IBM": 105,
         "_deepnote_index_column": "2009-07-01T00:00:00.000000"
        },
        {
         "AAPL": 20.178571701049805,
         "IBM": 103.80000305175781,
         "_deepnote_index_column": "2009-07-02T00:00:00.000000"
        },
        {
         "AAPL": 19.814285278320312,
         "IBM": 101.56999969482422,
         "_deepnote_index_column": "2009-07-06T00:00:00.000000"
        },
        {
         "AAPL": 19.78285789489746,
         "IBM": 101.33999633789062,
         "_deepnote_index_column": "2009-07-07T00:00:00.000000"
        },
        {
         "AAPL": 19.417142868041992,
         "IBM": 100.29000091552734,
         "_deepnote_index_column": "2009-07-08T00:00:00.000000"
        },
        {
         "AAPL": 19.68000030517578,
         "IBM": 101.12000274658203,
         "_deepnote_index_column": "2009-07-09T00:00:00.000000"
        },
        {
         "AAPL": 19.477142333984375,
         "IBM": 100.97000122070312,
         "_deepnote_index_column": "2009-07-10T00:00:00.000000"
        },
        {
         "AAPL": 19.934284210205078,
         "IBM": 101.27999877929688,
         "_deepnote_index_column": "2009-07-13T00:00:00.000000"
        },
        {
         "AAPL": 20.290000915527344,
         "IBM": 103.41999816894531,
         "_deepnote_index_column": "2009-07-14T00:00:00.000000"
        },
        {
         "AAPL": 20.719999313354492,
         "IBM": 104.75,
         "_deepnote_index_column": "2009-07-15T00:00:00.000000"
        },
        {
         "AAPL": 20.822856903076172,
         "IBM": 106.83999633789062,
         "_deepnote_index_column": "2009-07-16T00:00:00.000000"
        },
        {
         "AAPL": 21.297142028808594,
         "IBM": 113.41000366210938,
         "_deepnote_index_column": "2009-07-17T00:00:00.000000"
        },
        {
         "AAPL": 21.895713806152344,
         "IBM": 114.52999877929688,
         "_deepnote_index_column": "2009-07-20T00:00:00.000000"
        },
        {
         "AAPL": 21.898571014404297,
         "IBM": 115.87000274658203,
         "_deepnote_index_column": "2009-07-21T00:00:00.000000"
        },
        {
         "AAPL": 22.541427612304688,
         "IBM": 116.18000030517578,
         "_deepnote_index_column": "2009-07-22T00:00:00.000000"
        },
        {
         "AAPL": 22.375713348388672,
         "IBM": 115.05999755859375,
         "_deepnote_index_column": "2009-07-23T00:00:00.000000"
        },
        {
         "AAPL": 22.421428680419922,
         "IBM": 116.68000030517578,
         "_deepnote_index_column": "2009-07-24T00:00:00.000000"
        },
        {
         "AAPL": 22.881427764892578,
         "IBM": 116.94999694824219,
         "_deepnote_index_column": "2009-07-27T00:00:00.000000"
        },
        {
         "AAPL": 22.697141647338867,
         "IBM": 116.62999725341797,
         "_deepnote_index_column": "2009-07-28T00:00:00.000000"
        },
        {
         "AAPL": 22.700000762939453,
         "IBM": 116.36000061035156,
         "_deepnote_index_column": "2009-07-29T00:00:00.000000"
        },
        {
         "AAPL": 23.100000381469727,
         "IBM": 118,
         "_deepnote_index_column": "2009-07-30T00:00:00.000000"
        },
        {
         "AAPL": 23.284013748168945,
         "IBM": 117.55999755859375,
         "_deepnote_index_column": "2009-07-31T00:00:00.000000"
        },
        {
         "AAPL": 23.60142707824707,
         "IBM": 118.87999725341797,
         "_deepnote_index_column": "2009-08-03T00:00:00.000000"
        },
        {
         "AAPL": 23.56142807006836,
         "IBM": 119.16999816894531,
         "_deepnote_index_column": "2009-08-04T00:00:00.000000"
        },
        {
         "AAPL": 23.678571701049805,
         "IBM": 118.51499938964844,
         "_deepnote_index_column": "2009-08-05T00:00:00.000000"
        },
        {
         "AAPL": 23.654285430908203,
         "IBM": 118.30999755859375,
         "_deepnote_index_column": "2009-08-06T00:00:00.000000"
        },
        {
         "AAPL": 23.641427993774414,
         "IBM": 118.11000061035156,
         "_deepnote_index_column": "2009-08-07T00:00:00.000000"
        },
        {
         "AAPL": 23.665714263916016,
         "IBM": 118.16999816894531,
         "_deepnote_index_column": "2009-08-10T00:00:00.000000"
        },
        {
         "AAPL": 23.38428497314453,
         "IBM": 118.02999877929688,
         "_deepnote_index_column": "2009-08-11T00:00:00.000000"
        },
        {
         "AAPL": 23.22142791748047,
         "IBM": 117.5999984741211,
         "_deepnote_index_column": "2009-08-12T00:00:00.000000"
        },
        {
         "AAPL": 23.80714225769043,
         "IBM": 119.27999877929688,
         "_deepnote_index_column": "2009-08-13T00:00:00.000000"
        },
        {
         "AAPL": 23.99142837524414,
         "IBM": 119.29000091552734,
         "_deepnote_index_column": "2009-08-14T00:00:00.000000"
        },
        {
         "AAPL": 23.36428451538086,
         "IBM": 116.69000244140625,
         "_deepnote_index_column": "2009-08-17T00:00:00.000000"
        },
        {
         "AAPL": 23.09000015258789,
         "IBM": 116.80999755859375,
         "_deepnote_index_column": "2009-08-18T00:00:00.000000"
        },
        {
         "AAPL": 23.25,
         "IBM": 116.36000061035156,
         "_deepnote_index_column": "2009-08-19T00:00:00.000000"
        },
        {
         "AAPL": 23.568571090698242,
         "IBM": 118.44000244140625,
         "_deepnote_index_column": "2009-08-20T00:00:00.000000"
        },
        {
         "AAPL": 23.950000762939453,
         "IBM": 119.6500015258789,
         "_deepnote_index_column": "2009-08-21T00:00:00.000000"
        },
        {
         "AAPL": 24.3028564453125,
         "IBM": 119.91999816894531,
         "_deepnote_index_column": "2009-08-24T00:00:00.000000"
        },
        {
         "AAPL": 24.20855712890625,
         "IBM": 119.25,
         "_deepnote_index_column": "2009-08-25T00:00:00.000000"
        },
        {
         "AAPL": 24.131427764892578,
         "IBM": 118.63999938964844,
         "_deepnote_index_column": "2009-08-26T00:00:00.000000"
        },
        {
         "AAPL": 24.107141494750977,
         "IBM": 118.7300033569336,
         "_deepnote_index_column": "2009-08-27T00:00:00.000000"
        },
        {
         "AAPL": 24.610000610351562,
         "IBM": 120.0999984741211,
         "_deepnote_index_column": "2009-08-28T00:00:00.000000"
        },
        {
         "AAPL": 24.022857666015625,
         "IBM": 117.0999984741211,
         "_deepnote_index_column": "2009-08-31T00:00:00.000000"
        },
        {
         "AAPL": 23.998571395874023,
         "IBM": 117.66999816894531,
         "_deepnote_index_column": "2009-09-01T00:00:00.000000"
        },
        {
         "AAPL": 23.517141342163086,
         "IBM": 116.33999633789062,
         "_deepnote_index_column": "2009-09-02T00:00:00.000000"
        },
        {
         "AAPL": 23.777141571044922,
         "IBM": 116.55000305175781,
         "_deepnote_index_column": "2009-09-03T00:00:00.000000"
        },
        {
         "AAPL": 23.896528244018555,
         "IBM": 116.58000183105469,
         "_deepnote_index_column": "2009-09-04T00:00:00.000000"
        },
        {
         "AAPL": 24.632856369018555,
         "IBM": 117.94000244140625,
         "_deepnote_index_column": "2009-09-08T00:00:00.000000"
        },
        {
         "AAPL": 24.674285888671875,
         "IBM": 117.02999877929688,
         "_deepnote_index_column": "2009-09-09T00:00:00.000000"
        },
        {
         "AAPL": 24.579999923706055,
         "IBM": 116.98999786376953,
         "_deepnote_index_column": "2009-09-10T00:00:00.000000"
        },
        {
         "AAPL": 24.70857048034668,
         "IBM": 117.80000305175781,
         "_deepnote_index_column": "2009-09-11T00:00:00.000000"
        },
        {
         "AAPL": 24.407142639160156,
         "IBM": 117,
         "_deepnote_index_column": "2009-09-14T00:00:00.000000"
        },
        {
         "AAPL": 24.862857818603516,
         "IBM": 118.77999877929688,
         "_deepnote_index_column": "2009-09-15T00:00:00.000000"
        },
        {
         "AAPL": 25.428571701049805,
         "IBM": 119.5,
         "_deepnote_index_column": "2009-09-16T00:00:00.000000"
        },
        {
         "AAPL": 26,
         "IBM": 121.13999938964844,
         "_deepnote_index_column": "2009-09-17T00:00:00.000000"
        },
        {
         "AAPL": 26.55714225769043,
         "IBM": 122.44999694824219,
         "_deepnote_index_column": "2009-09-18T00:00:00.000000"
        },
        {
         "AAPL": 26.34857177734375,
         "IBM": 121.02999877929688,
         "_deepnote_index_column": "2009-09-21T00:00:00.000000"
        },
        {
         "AAPL": 26.44285774230957,
         "IBM": 122.08999633789062,
         "_deepnote_index_column": "2009-09-22T00:00:00.000000"
        },
        {
         "AAPL": 26.485713958740234,
         "IBM": 121.26000213623047,
         "_deepnote_index_column": "2009-09-23T00:00:00.000000"
        },
        {
         "AAPL": 26.742856979370117,
         "IBM": 120.69000244140625,
         "_deepnote_index_column": "2009-09-24T00:00:00.000000"
        },
        {
         "AAPL": 26.018571853637695,
         "IBM": 120.2699966430664,
         "_deepnote_index_column": "2009-09-25T00:00:00.000000"
        },
        {
         "AAPL": 26.261428833007812,
         "IBM": 120.5199966430664,
         "_deepnote_index_column": "2009-09-28T00:00:00.000000"
        },
        {
         "AAPL": 26.665714263916016,
         "IBM": 119.36000061035156,
         "_deepnote_index_column": "2009-09-29T00:00:00.000000"
        },
        {
         "AAPL": 26.5771427154541,
         "IBM": 119.18000030517578,
         "_deepnote_index_column": "2009-09-30T00:00:00.000000"
        },
        {
         "AAPL": 26.498571395874023,
         "IBM": 119.38999938964844,
         "_deepnote_index_column": "2009-10-01T00:00:00.000000"
        },
        {
         "AAPL": 25.911428451538086,
         "IBM": 117.4000015258789,
         "_deepnote_index_column": "2009-10-02T00:00:00.000000"
        },
        {
         "AAPL": 26.600000381469727,
         "IBM": 118.9000015258789,
         "_deepnote_index_column": "2009-10-05T00:00:00.000000"
        },
        {
         "AAPL": 26.821428298950195,
         "IBM": 120.38999938964844,
         "_deepnote_index_column": "2009-10-06T00:00:00.000000"
        },
        {
         "AAPL": 27.117141723632812,
         "IBM": 121.12000274658203,
         "_deepnote_index_column": "2009-10-07T00:00:00.000000"
        },
        {
         "AAPL": 27.252857208251953,
         "IBM": 122.5199966430664,
         "_deepnote_index_column": "2009-10-08T00:00:00.000000"
        },
        {
         "AAPL": 26.985713958740234,
         "IBM": 122.43000030517578,
         "_deepnote_index_column": "2009-10-09T00:00:00.000000"
        },
        {
         "AAPL": 27.28142738342285,
         "IBM": 125.44000244140625,
         "_deepnote_index_column": "2009-10-12T00:00:00.000000"
        },
        {
         "AAPL": 27.231428146362305,
         "IBM": 126.22000122070312,
         "_deepnote_index_column": "2009-10-13T00:00:00.000000"
        },
        {
         "AAPL": 27.450000762939453,
         "IBM": 127.70999908447266,
         "_deepnote_index_column": "2009-10-14T00:00:00.000000"
        },
        {
         "AAPL": 27.08571434020996,
         "IBM": 127.55999755859375,
         "_deepnote_index_column": "2009-10-15T00:00:00.000000"
        },
        {
         "AAPL": 27.03571319580078,
         "IBM": 123.1500015258789,
         "_deepnote_index_column": "2009-10-16T00:00:00.000000"
        },
        {
         "AAPL": 26.84000015258789,
         "IBM": 121.76000213623047,
         "_deepnote_index_column": "2009-10-19T00:00:00.000000"
        },
        {
         "AAPL": 28.63857078552246,
         "IBM": 123.36000061035156,
         "_deepnote_index_column": "2009-10-20T00:00:00.000000"
        },
        {
         "AAPL": 28.517141342163086,
         "IBM": 122.18000030517578,
         "_deepnote_index_column": "2009-10-21T00:00:00.000000"
        },
        {
         "AAPL": 29.21714210510254,
         "IBM": 120.75,
         "_deepnote_index_column": "2009-10-22T00:00:00.000000"
        },
        {
         "AAPL": 29.385713577270508,
         "IBM": 122.94999694824219,
         "_deepnote_index_column": "2009-10-23T00:00:00.000000"
        },
        {
         "AAPL": 29.071428298950195,
         "IBM": 120.61000061035156,
         "_deepnote_index_column": "2009-10-26T00:00:00.000000"
        },
        {
         "AAPL": 28.805713653564453,
         "IBM": 120.18000030517578,
         "_deepnote_index_column": "2009-10-27T00:00:00.000000"
        },
        {
         "AAPL": 28.182857513427734,
         "IBM": 120.47000122070312,
         "_deepnote_index_column": "2009-10-28T00:00:00.000000"
        },
        {
         "AAPL": 27.841428756713867,
         "IBM": 122.1500015258789,
         "_deepnote_index_column": "2009-10-29T00:00:00.000000"
        },
        {
         "AAPL": 28.025714874267578,
         "IBM": 122.62999725341797,
         "_deepnote_index_column": "2009-10-30T00:00:00.000000"
        },
        {
         "AAPL": 27.115713119506836,
         "IBM": 120.7699966430664,
         "_deepnote_index_column": "2009-11-02T00:00:00.000000"
        },
        {
         "AAPL": 26.857141494750977,
         "IBM": 119.52999877929688,
         "_deepnote_index_column": "2009-11-03T00:00:00.000000"
        },
        {
         "AAPL": 27.244285583496094,
         "IBM": 121.45999908447266,
         "_deepnote_index_column": "2009-11-04T00:00:00.000000"
        },
        {
         "AAPL": 27.5285701751709,
         "IBM": 122.12000274658203,
         "_deepnote_index_column": "2009-11-05T00:00:00.000000"
        },
        {
         "AAPL": 27.571428298950195,
         "IBM": 122.51000213623047,
         "_deepnote_index_column": "2009-11-06T00:00:00.000000"
        },
        {
         "AAPL": 28.135713577270508,
         "IBM": 123.91999816894531,
         "_deepnote_index_column": "2009-11-09T00:00:00.000000"
        },
        {
         "AAPL": 28.724285125732422,
         "IBM": 125.30000305175781,
         "_deepnote_index_column": "2009-11-10T00:00:00.000000"
        },
        {
         "AAPL": 29.23285675048828,
         "IBM": 126.55000305175781,
         "_deepnote_index_column": "2009-11-11T00:00:00.000000"
        },
        {
         "AAPL": 29.047142028808594,
         "IBM": 126.61000061035156,
         "_deepnote_index_column": "2009-11-12T00:00:00.000000"
        },
        {
         "AAPL": 28.985713958740234,
         "IBM": 126.41000366210938,
         "_deepnote_index_column": "2009-11-13T00:00:00.000000"
        },
        {
         "AAPL": 29.342857360839844,
         "IBM": 127.16999816894531,
         "_deepnote_index_column": "2009-11-16T00:00:00.000000"
        },
        {
         "AAPL": 29.43857192993164,
         "IBM": 127.43000030517578,
         "_deepnote_index_column": "2009-11-17T00:00:00.000000"
        },
        {
         "AAPL": 29.488571166992188,
         "IBM": 128.0500030517578,
         "_deepnote_index_column": "2009-11-18T00:00:00.000000"
        },
        {
         "AAPL": 29.224285125732422,
         "IBM": 127.27999877929688,
         "_deepnote_index_column": "2009-11-19T00:00:00.000000"
        },
        {
         "AAPL": 28.332857131958008,
         "IBM": 127.16999816894531,
         "_deepnote_index_column": "2009-11-20T00:00:00.000000"
        },
        {
         "AAPL": 29.017141342163086,
         "IBM": 127.69999694824219,
         "_deepnote_index_column": "2009-11-23T00:00:00.000000"
        },
        {
         "AAPL": 29.328571319580078,
         "IBM": 127.9000015258789,
         "_deepnote_index_column": "2009-11-24T00:00:00.000000"
        },
        {
         "AAPL": 29.357141494750977,
         "IBM": 127.87999725341797,
         "_deepnote_index_column": "2009-11-25T00:00:00.000000"
        },
        {
         "AAPL": 28.44285774230957,
         "IBM": 124.58999633789062,
         "_deepnote_index_column": "2009-11-27T00:00:00.000000"
        },
        {
         "AAPL": 28.701427459716797,
         "IBM": 125.12000274658203,
         "_deepnote_index_column": "2009-11-30T00:00:00.000000"
        },
        {
         "AAPL": 28.89285659790039,
         "IBM": 127.29000091552734,
         "_deepnote_index_column": "2009-12-01T00:00:00.000000"
        },
        {
         "AAPL": 28.435714721679688,
         "IBM": 127.31999969482422,
         "_deepnote_index_column": "2009-12-02T00:00:00.000000"
        },
        {
         "AAPL": 28.267141342163086,
         "IBM": 127.5999984741211,
         "_deepnote_index_column": "2009-12-03T00:00:00.000000"
        },
        {
         "AAPL": 28.5285701751709,
         "IBM": 128.39999389648438,
         "_deepnote_index_column": "2009-12-04T00:00:00.000000"
        },
        {
         "AAPL": 27.617141723632812,
         "IBM": 126.87999725341797,
         "_deepnote_index_column": "2009-12-07T00:00:00.000000"
        },
        {
         "AAPL": 27.005714416503906,
         "IBM": 126.97000122070312,
         "_deepnote_index_column": "2009-12-08T00:00:00.000000"
        },
        {
         "AAPL": 27.321428298950195,
         "IBM": 126.69999694824219,
         "_deepnote_index_column": "2009-12-09T00:00:00.000000"
        },
        {
         "AAPL": 28.527141571044922,
         "IBM": 128.1300048828125,
         "_deepnote_index_column": "2009-12-10T00:00:00.000000"
        },
        {
         "AAPL": 28.25,
         "IBM": 129.00999450683594,
         "_deepnote_index_column": "2009-12-11T00:00:00.000000"
        },
        {
         "AAPL": 27.924285888671875,
         "IBM": 129.64999389648438,
         "_deepnote_index_column": "2009-12-14T00:00:00.000000"
        },
        {
         "AAPL": 27.965713500976562,
         "IBM": 129.4600067138672,
         "_deepnote_index_column": "2009-12-15T00:00:00.000000"
        },
        {
         "AAPL": 27.857141494750977,
         "IBM": 128.74000549316406,
         "_deepnote_index_column": "2009-12-16T00:00:00.000000"
        },
        {
         "AAPL": 27.838571548461914,
         "IBM": 128,
         "_deepnote_index_column": "2009-12-17T00:00:00.000000"
        },
        {
         "AAPL": 27.58571434020996,
         "IBM": 127.97000122070312,
         "_deepnote_index_column": "2009-12-18T00:00:00.000000"
        },
        {
         "AAPL": 28,
         "IBM": 127.80000305175781,
         "_deepnote_index_column": "2009-12-21T00:00:00.000000"
        },
        {
         "AAPL": 28.541427612304688,
         "IBM": 129.3000030517578,
         "_deepnote_index_column": "2009-12-22T00:00:00.000000"
        },
        {
         "AAPL": 28.74142837524414,
         "IBM": 129.6999969482422,
         "_deepnote_index_column": "2009-12-23T00:00:00.000000"
        },
        {
         "AAPL": 29.06142807006836,
         "IBM": 129.88999938964844,
         "_deepnote_index_column": "2009-12-24T00:00:00.000000"
        },
        {
         "AAPL": 30.16428565979004,
         "IBM": 130.99000549316406,
         "_deepnote_index_column": "2009-12-28T00:00:00.000000"
        },
        {
         "AAPL": 30.378570556640625,
         "IBM": 132.27999877929688,
         "_deepnote_index_column": "2009-12-29T00:00:00.000000"
        }
       ],
       "rows_bottom": [
        {
         "AAPL": 143.97999572753906,
         "IBM": 114.52999877929688,
         "_deepnote_index_column": "2019-01-03T00:00:00.000000"
        },
        {
         "AAPL": 144.52999877929688,
         "IBM": 114.91000366210938,
         "_deepnote_index_column": "2019-01-04T00:00:00.000000"
        },
        {
         "AAPL": 148.6999969482422,
         "IBM": 117.5,
         "_deepnote_index_column": "2019-01-07T00:00:00.000000"
        },
        {
         "AAPL": 149.55999755859375,
         "IBM": 119.66000366210938,
         "_deepnote_index_column": "2019-01-08T00:00:00.000000"
        },
        {
         "AAPL": 151.2899932861328,
         "IBM": 120.91000366210938,
         "_deepnote_index_column": "2019-01-09T00:00:00.000000"
        },
        {
         "AAPL": 152.5,
         "IBM": 120.08000183105469,
         "_deepnote_index_column": "2019-01-10T00:00:00.000000"
        },
        {
         "AAPL": 152.8800048828125,
         "IBM": 121.58000183105469,
         "_deepnote_index_column": "2019-01-11T00:00:00.000000"
        },
        {
         "AAPL": 150.85000610351562,
         "IBM": 120.51000213623047,
         "_deepnote_index_column": "2019-01-14T00:00:00.000000"
        },
        {
         "AAPL": 150.27000427246094,
         "IBM": 120.95999908447266,
         "_deepnote_index_column": "2019-01-15T00:00:00.000000"
        },
        {
         "AAPL": 153.0800018310547,
         "IBM": 121.58000183105469,
         "_deepnote_index_column": "2019-01-16T00:00:00.000000"
        },
        {
         "AAPL": 154.1999969482422,
         "IBM": 120.55999755859375,
         "_deepnote_index_column": "2019-01-17T00:00:00.000000"
        },
        {
         "AAPL": 157.5,
         "IBM": 123.2699966430664,
         "_deepnote_index_column": "2019-01-18T00:00:00.000000"
        },
        {
         "AAPL": 156.41000366210938,
         "IBM": 123.30000305175781,
         "_deepnote_index_column": "2019-01-22T00:00:00.000000"
        },
        {
         "AAPL": 154.14999389648438,
         "IBM": 131.3699951171875,
         "_deepnote_index_column": "2019-01-23T00:00:00.000000"
        },
        {
         "AAPL": 154.11000061035156,
         "IBM": 132.6300048828125,
         "_deepnote_index_column": "2019-01-24T00:00:00.000000"
        },
        {
         "AAPL": 155.47999572753906,
         "IBM": 132.8699951171875,
         "_deepnote_index_column": "2019-01-25T00:00:00.000000"
        },
        {
         "AAPL": 155.7899932861328,
         "IBM": 133.10000610351562,
         "_deepnote_index_column": "2019-01-28T00:00:00.000000"
        },
        {
         "AAPL": 156.25,
         "IBM": 134.2899932861328,
         "_deepnote_index_column": "2019-01-29T00:00:00.000000"
        },
        {
         "AAPL": 163.25,
         "IBM": 134,
         "_deepnote_index_column": "2019-01-30T00:00:00.000000"
        },
        {
         "AAPL": 166.11000061035156,
         "IBM": 134.4499969482422,
         "_deepnote_index_column": "2019-01-31T00:00:00.000000"
        },
        {
         "AAPL": 166.9600067138672,
         "IBM": 134.97000122070312,
         "_deepnote_index_column": "2019-02-01T00:00:00.000000"
        },
        {
         "AAPL": 167.41000366210938,
         "IBM": 134.02000427246094,
         "_deepnote_index_column": "2019-02-04T00:00:00.000000"
        },
        {
         "AAPL": 172.86000061035156,
         "IBM": 135.27999877929688,
         "_deepnote_index_column": "2019-02-05T00:00:00.000000"
        },
        {
         "AAPL": 174.64999389648438,
         "IBM": 135.22000122070312,
         "_deepnote_index_column": "2019-02-06T00:00:00.000000"
        },
        {
         "AAPL": 172.39999389648438,
         "IBM": 133.5500030517578,
         "_deepnote_index_column": "2019-02-07T00:00:00.000000"
        },
        {
         "AAPL": 168.99000549316406,
         "IBM": 132.33999633789062,
         "_deepnote_index_column": "2019-02-08T00:00:00.000000"
        },
        {
         "AAPL": 171.0500030517578,
         "IBM": 134.2899932861328,
         "_deepnote_index_column": "2019-02-11T00:00:00.000000"
        },
        {
         "AAPL": 170.10000610351562,
         "IBM": 135.14999389648438,
         "_deepnote_index_column": "2019-02-12T00:00:00.000000"
        },
        {
         "AAPL": 171.38999938964844,
         "IBM": 136.9199981689453,
         "_deepnote_index_column": "2019-02-13T00:00:00.000000"
        },
        {
         "AAPL": 169.7100067138672,
         "IBM": 137.1699981689453,
         "_deepnote_index_column": "2019-02-14T00:00:00.000000"
        },
        {
         "AAPL": 171.25,
         "IBM": 137.5800018310547,
         "_deepnote_index_column": "2019-02-15T00:00:00.000000"
        },
        {
         "AAPL": 169.7100067138672,
         "IBM": 137.80999755859375,
         "_deepnote_index_column": "2019-02-19T00:00:00.000000"
        },
        {
         "AAPL": 171.19000244140625,
         "IBM": 138.75999450683594,
         "_deepnote_index_column": "2019-02-20T00:00:00.000000"
        },
        {
         "AAPL": 171.8000030517578,
         "IBM": 137.82000732421875,
         "_deepnote_index_column": "2019-02-21T00:00:00.000000"
        },
        {
         "AAPL": 171.5800018310547,
         "IBM": 138.72999572753906,
         "_deepnote_index_column": "2019-02-22T00:00:00.000000"
        },
        {
         "AAPL": 174.16000366210938,
         "IBM": 140,
         "_deepnote_index_column": "2019-02-25T00:00:00.000000"
        },
        {
         "AAPL": 173.7100067138672,
         "IBM": 139.6699981689453,
         "_deepnote_index_column": "2019-02-26T00:00:00.000000"
        },
        {
         "AAPL": 173.2100067138672,
         "IBM": 139.25,
         "_deepnote_index_column": "2019-02-27T00:00:00.000000"
        },
        {
         "AAPL": 174.32000732421875,
         "IBM": 138.77000427246094,
         "_deepnote_index_column": "2019-02-28T00:00:00.000000"
        },
        {
         "AAPL": 174.27999877929688,
         "IBM": 139.30999755859375,
         "_deepnote_index_column": "2019-03-01T00:00:00.000000"
        },
        {
         "AAPL": 175.69000244140625,
         "IBM": 139.99000549316406,
         "_deepnote_index_column": "2019-03-04T00:00:00.000000"
        },
        {
         "AAPL": 175.94000244140625,
         "IBM": 138.3699951171875,
         "_deepnote_index_column": "2019-03-05T00:00:00.000000"
        },
        {
         "AAPL": 174.6699981689453,
         "IBM": 138.1199951171875,
         "_deepnote_index_column": "2019-03-06T00:00:00.000000"
        },
        {
         "AAPL": 173.8699951171875,
         "IBM": 136.61000061035156,
         "_deepnote_index_column": "2019-03-07T00:00:00.000000"
        },
        {
         "AAPL": 170.32000732421875,
         "IBM": 134.2100067138672,
         "_deepnote_index_column": "2019-03-08T00:00:00.000000"
        },
        {
         "AAPL": 175.49000549316406,
         "IBM": 136.02999877929688,
         "_deepnote_index_column": "2019-03-11T00:00:00.000000"
        },
        {
         "AAPL": 180,
         "IBM": 138.52000427246094,
         "_deepnote_index_column": "2019-03-12T00:00:00.000000"
        },
        {
         "AAPL": 182.25,
         "IBM": 138.0500030517578,
         "_deepnote_index_column": "2019-03-13T00:00:00.000000"
        },
        {
         "AAPL": 183.89999389648438,
         "IBM": 138.50999450683594,
         "_deepnote_index_column": "2019-03-14T00:00:00.000000"
        },
        {
         "AAPL": 184.85000610351562,
         "IBM": 139.3699951171875,
         "_deepnote_index_column": "2019-03-15T00:00:00.000000"
        },
        {
         "AAPL": 185.8000030517578,
         "IBM": 139.8300018310547,
         "_deepnote_index_column": "2019-03-18T00:00:00.000000"
        },
        {
         "AAPL": 188.35000610351562,
         "IBM": 140.9600067138672,
         "_deepnote_index_column": "2019-03-19T00:00:00.000000"
        },
        {
         "AAPL": 186.22999572753906,
         "IBM": 140.52999877929688,
         "_deepnote_index_column": "2019-03-20T00:00:00.000000"
        },
        {
         "AAPL": 190.02000427246094,
         "IBM": 139.10000610351562,
         "_deepnote_index_column": "2019-03-21T00:00:00.000000"
        },
        {
         "AAPL": 195.33999633789062,
         "IBM": 140.97000122070312,
         "_deepnote_index_column": "2019-03-22T00:00:00.000000"
        },
        {
         "AAPL": 191.50999450683594,
         "IBM": 139.05999755859375,
         "_deepnote_index_column": "2019-03-25T00:00:00.000000"
        },
        {
         "AAPL": 191.66400146484375,
         "IBM": 139.92999267578125,
         "_deepnote_index_column": "2019-03-26T00:00:00.000000"
        },
        {
         "AAPL": 188.75,
         "IBM": 140.41000366210938,
         "_deepnote_index_column": "2019-03-27T00:00:00.000000"
        },
        {
         "AAPL": 188.9499969482422,
         "IBM": 139.91000366210938,
         "_deepnote_index_column": "2019-03-28T00:00:00.000000"
        },
        {
         "AAPL": 189.8300018310547,
         "IBM": 140.5,
         "_deepnote_index_column": "2019-03-29T00:00:00.000000"
        },
        {
         "AAPL": 191.63999938964844,
         "IBM": 141.50999450683594,
         "_deepnote_index_column": "2019-04-01T00:00:00.000000"
        },
        {
         "AAPL": 191.08999633789062,
         "IBM": 143.35000610351562,
         "_deepnote_index_column": "2019-04-02T00:00:00.000000"
        },
        {
         "AAPL": 193.25,
         "IBM": 143.64999389648438,
         "_deepnote_index_column": "2019-04-03T00:00:00.000000"
        },
        {
         "AAPL": 194.7899932861328,
         "IBM": 143.6199951171875,
         "_deepnote_index_column": "2019-04-04T00:00:00.000000"
        },
        {
         "AAPL": 196.4499969482422,
         "IBM": 143.2899932861328,
         "_deepnote_index_column": "2019-04-05T00:00:00.000000"
        },
        {
         "AAPL": 196.4199981689453,
         "IBM": 143.02000427246094,
         "_deepnote_index_column": "2019-04-08T00:00:00.000000"
        },
        {
         "AAPL": 200.32000732421875,
         "IBM": 142.66000366210938,
         "_deepnote_index_column": "2019-04-09T00:00:00.000000"
        },
        {
         "AAPL": 198.67999267578125,
         "IBM": 142.1999969482422,
         "_deepnote_index_column": "2019-04-10T00:00:00.000000"
        },
        {
         "AAPL": 200.85000610351562,
         "IBM": 143.8000030517578,
         "_deepnote_index_column": "2019-04-11T00:00:00.000000"
        },
        {
         "AAPL": 199.1999969482422,
         "IBM": 144.25999450683594,
         "_deepnote_index_column": "2019-04-12T00:00:00.000000"
        },
        {
         "AAPL": 198.5800018310547,
         "IBM": 144.39999389648438,
         "_deepnote_index_column": "2019-04-15T00:00:00.000000"
        },
        {
         "AAPL": 199.4600067138672,
         "IBM": 144.39999389648438,
         "_deepnote_index_column": "2019-04-16T00:00:00.000000"
        },
        {
         "AAPL": 199.5399932861328,
         "IBM": 137.3699951171875,
         "_deepnote_index_column": "2019-04-17T00:00:00.000000"
        },
        {
         "AAPL": 203.1199951171875,
         "IBM": 139,
         "_deepnote_index_column": "2019-04-18T00:00:00.000000"
        },
        {
         "AAPL": 202.8300018310547,
         "IBM": 139.4199981689453,
         "_deepnote_index_column": "2019-04-22T00:00:00.000000"
        },
        {
         "AAPL": 204.42999267578125,
         "IBM": 139.14999389648438,
         "_deepnote_index_column": "2019-04-23T00:00:00.000000"
        },
        {
         "AAPL": 207.36000061035156,
         "IBM": 140.60000610351562,
         "_deepnote_index_column": "2019-04-24T00:00:00.000000"
        },
        {
         "AAPL": 206.8300018310547,
         "IBM": 139.6999969482422,
         "_deepnote_index_column": "2019-04-25T00:00:00.000000"
        },
        {
         "AAPL": 204.89999389648438,
         "IBM": 139.33999633789062,
         "_deepnote_index_column": "2019-04-26T00:00:00.000000"
        },
        {
         "AAPL": 204.39999389648438,
         "IBM": 139.14999389648438,
         "_deepnote_index_column": "2019-04-29T00:00:00.000000"
        },
        {
         "AAPL": 203.05999755859375,
         "IBM": 139.11000061035156,
         "_deepnote_index_column": "2019-04-30T00:00:00.000000"
        },
        {
         "AAPL": 209.8800048828125,
         "IBM": 140.5500030517578,
         "_deepnote_index_column": "2019-05-01T00:00:00.000000"
        },
        {
         "AAPL": 209.83999633789062,
         "IBM": 140.5,
         "_deepnote_index_column": "2019-05-02T00:00:00.000000"
        },
        {
         "AAPL": 210.88999938964844,
         "IBM": 139.6999969482422,
         "_deepnote_index_column": "2019-05-03T00:00:00.000000"
        },
        {
         "AAPL": 204.2899932861328,
         "IBM": 138.3000030517578,
         "_deepnote_index_column": "2019-05-06T00:00:00.000000"
        },
        {
         "AAPL": 205.8800048828125,
         "IBM": 139.14999389648438,
         "_deepnote_index_column": "2019-05-07T00:00:00.000000"
        },
        {
         "AAPL": 201.89999389648438,
         "IBM": 137.77000427246094,
         "_deepnote_index_column": "2019-05-08T00:00:00.000000"
        },
        {
         "AAPL": 200.39999389648438,
         "IBM": 134.88999938964844,
         "_deepnote_index_column": "2019-05-09T00:00:00.000000"
        },
        {
         "AAPL": 197.41900634765625,
         "IBM": 134.8800048828125,
         "_deepnote_index_column": "2019-05-10T00:00:00.000000"
        },
        {
         "AAPL": 187.7100067138672,
         "IBM": 133.27999877929688,
         "_deepnote_index_column": "2019-05-13T00:00:00.000000"
        },
        {
         "AAPL": 186.41000366210938,
         "IBM": 131.82000732421875,
         "_deepnote_index_column": "2019-05-14T00:00:00.000000"
        },
        {
         "AAPL": 186.27000427246094,
         "IBM": 132.58999633789062,
         "_deepnote_index_column": "2019-05-15T00:00:00.000000"
        },
        {
         "AAPL": 189.91000366210938,
         "IBM": 134.74000549316406,
         "_deepnote_index_column": "2019-05-16T00:00:00.000000"
        },
        {
         "AAPL": 186.92999267578125,
         "IBM": 134.67999267578125,
         "_deepnote_index_column": "2019-05-17T00:00:00.000000"
        },
        {
         "AAPL": 183.52000427246094,
         "IBM": 133.52999877929688,
         "_deepnote_index_column": "2019-05-20T00:00:00.000000"
        },
        {
         "AAPL": 185.22000122070312,
         "IBM": 136.1199951171875,
         "_deepnote_index_column": "2019-05-21T00:00:00.000000"
        },
        {
         "AAPL": 184.66000366210938,
         "IBM": 136,
         "_deepnote_index_column": "2019-05-22T00:00:00.000000"
        },
        {
         "AAPL": 179.8000030517578,
         "IBM": 135.1300048828125,
         "_deepnote_index_column": "2019-05-23T00:00:00.000000"
        },
        {
         "AAPL": 180.1999969482422,
         "IBM": 133.52999877929688,
         "_deepnote_index_column": "2019-05-24T00:00:00.000000"
        },
        {
         "AAPL": 178.9199981689453,
         "IBM": 132.1300048828125,
         "_deepnote_index_column": "2019-05-28T00:00:00.000000"
        },
        {
         "AAPL": 176.4199981689453,
         "IBM": 130,
         "_deepnote_index_column": "2019-05-29T00:00:00.000000"
        },
        {
         "AAPL": 177.9499969482422,
         "IBM": 129.74000549316406,
         "_deepnote_index_column": "2019-05-30T00:00:00.000000"
        },
        {
         "AAPL": 176.22999572753906,
         "IBM": 128.44000244140625,
         "_deepnote_index_column": "2019-05-31T00:00:00.000000"
        },
        {
         "AAPL": 175.60000610351562,
         "IBM": 127.0999984741211,
         "_deepnote_index_column": "2019-06-03T00:00:00.000000"
        },
        {
         "AAPL": 175.44000244140625,
         "IBM": 129.55999755859375,
         "_deepnote_index_column": "2019-06-04T00:00:00.000000"
        },
        {
         "AAPL": 184.27999877929688,
         "IBM": 133.3800048828125,
         "_deepnote_index_column": "2019-06-05T00:00:00.000000"
        },
        {
         "AAPL": 183.0800018310547,
         "IBM": 132.19000244140625,
         "_deepnote_index_column": "2019-06-06T00:00:00.000000"
        },
        {
         "AAPL": 186.50999450683594,
         "IBM": 132.47000122070312,
         "_deepnote_index_column": "2019-06-07T00:00:00.000000"
        },
        {
         "AAPL": 191.80999755859375,
         "IBM": 134.3800048828125,
         "_deepnote_index_column": "2019-06-10T00:00:00.000000"
        },
        {
         "AAPL": 194.86000061035156,
         "IBM": 135.32000732421875,
         "_deepnote_index_column": "2019-06-11T00:00:00.000000"
        },
        {
         "AAPL": 193.9499969482422,
         "IBM": 135.55999755859375,
         "_deepnote_index_column": "2019-06-12T00:00:00.000000"
        },
        {
         "AAPL": 194.6999969482422,
         "IBM": 135.1300048828125,
         "_deepnote_index_column": "2019-06-13T00:00:00.000000"
        },
        {
         "AAPL": 191.5449981689453,
         "IBM": 135.44000244140625,
         "_deepnote_index_column": "2019-06-14T00:00:00.000000"
        },
        {
         "AAPL": 192.89999389648438,
         "IBM": 135.38999938964844,
         "_deepnote_index_column": "2019-06-17T00:00:00.000000"
        },
        {
         "AAPL": 196.0500030517578,
         "IBM": 135.1999969482422,
         "_deepnote_index_column": "2019-06-18T00:00:00.000000"
        },
        {
         "AAPL": 199.67999267578125,
         "IBM": 136.42999267578125,
         "_deepnote_index_column": "2019-06-19T00:00:00.000000"
        },
        {
         "AAPL": 200.3699951171875,
         "IBM": 138.92999267578125,
         "_deepnote_index_column": "2019-06-20T00:00:00.000000"
        },
        {
         "AAPL": 198.8000030517578,
         "IBM": 138.44000244140625,
         "_deepnote_index_column": "2019-06-21T00:00:00.000000"
        },
        {
         "AAPL": 198.5399932861328,
         "IBM": 139.1999969482422,
         "_deepnote_index_column": "2019-06-24T00:00:00.000000"
        },
        {
         "AAPL": 198.42999267578125,
         "IBM": 139.4600067138672,
         "_deepnote_index_column": "2019-06-25T00:00:00.000000"
        },
        {
         "AAPL": 197.77000427246094,
         "IBM": 138.8699951171875,
         "_deepnote_index_column": "2019-06-26T00:00:00.000000"
        },
        {
         "AAPL": 200.2899932861328,
         "IBM": 138.72000122070312,
         "_deepnote_index_column": "2019-06-27T00:00:00.000000"
        },
        {
         "AAPL": 198.67999267578125,
         "IBM": 138.57000732421875,
         "_deepnote_index_column": "2019-06-28T00:00:00.000000"
        },
        {
         "AAPL": 203.1699981689453,
         "IBM": 139.60000610351562,
         "_deepnote_index_column": "2019-07-01T00:00:00.000000"
        },
        {
         "AAPL": 201.41000366210938,
         "IBM": 139.75,
         "_deepnote_index_column": "2019-07-02T00:00:00.000000"
        },
        {
         "AAPL": 203.27999877929688,
         "IBM": 140.72000122070312,
         "_deepnote_index_column": "2019-07-03T00:00:00.000000"
        },
        {
         "AAPL": 203.35000610351562,
         "IBM": 140.8699951171875,
         "_deepnote_index_column": "2019-07-05T00:00:00.000000"
        },
        {
         "AAPL": 200.80999755859375,
         "IBM": 141.0500030517578,
         "_deepnote_index_column": "2019-07-08T00:00:00.000000"
        },
        {
         "AAPL": 199.1999969482422,
         "IBM": 140.61000061035156,
         "_deepnote_index_column": "2019-07-09T00:00:00.000000"
        },
        {
         "AAPL": 201.85000610351562,
         "IBM": 140,
         "_deepnote_index_column": "2019-07-10T00:00:00.000000"
        },
        {
         "AAPL": 203.30999755859375,
         "IBM": 140.7899932861328,
         "_deepnote_index_column": "2019-07-11T00:00:00.000000"
        },
        {
         "AAPL": 202.4499969482422,
         "IBM": 141.9199981689453,
         "_deepnote_index_column": "2019-07-12T00:00:00.000000"
        },
        {
         "AAPL": 204.08999633789062,
         "IBM": 142.88999938964844,
         "_deepnote_index_column": "2019-07-15T00:00:00.000000"
        },
        {
         "AAPL": 204.58999633789062,
         "IBM": 143.1699981689453,
         "_deepnote_index_column": "2019-07-16T00:00:00.000000"
        },
        {
         "AAPL": 204.0500030517578,
         "IBM": 143.61000061035156,
         "_deepnote_index_column": "2019-07-17T00:00:00.000000"
        },
        {
         "AAPL": 204,
         "IBM": 142.5,
         "_deepnote_index_column": "2019-07-18T00:00:00.000000"
        },
        {
         "AAPL": 205.7899932861328,
         "IBM": 149.9600067138672,
         "_deepnote_index_column": "2019-07-19T00:00:00.000000"
        },
        {
         "AAPL": 203.64999389648438,
         "IBM": 150.16000366210938,
         "_deepnote_index_column": "2019-07-22T00:00:00.000000"
        },
        {
         "AAPL": 208.4600067138672,
         "IBM": 150.57000732421875,
         "_deepnote_index_column": "2019-07-23T00:00:00.000000"
        },
        {
         "AAPL": 207.6699981689453,
         "IBM": 150.1199951171875,
         "_deepnote_index_column": "2019-07-24T00:00:00.000000"
        },
        {
         "AAPL": 208.88999938964844,
         "IBM": 149.82000732421875,
         "_deepnote_index_column": "2019-07-25T00:00:00.000000"
        },
        {
         "AAPL": 207.47999572753906,
         "IBM": 151,
         "_deepnote_index_column": "2019-07-26T00:00:00.000000"
        },
        {
         "AAPL": 208.4600067138672,
         "IBM": 151.11000061035156,
         "_deepnote_index_column": "2019-07-29T00:00:00.000000"
        },
        {
         "AAPL": 208.75999450683594,
         "IBM": 150,
         "_deepnote_index_column": "2019-07-30T00:00:00.000000"
        },
        {
         "AAPL": 216.4199981689453,
         "IBM": 149.6999969482422,
         "_deepnote_index_column": "2019-07-31T00:00:00.000000"
        },
        {
         "AAPL": 213.89999389648438,
         "IBM": 148.89999389648438,
         "_deepnote_index_column": "2019-08-01T00:00:00.000000"
        },
        {
         "AAPL": 205.52999877929688,
         "IBM": 149.02999877929688,
         "_deepnote_index_column": "2019-08-02T00:00:00.000000"
        },
        {
         "AAPL": 197.99000549316406,
         "IBM": 144.97999572753906,
         "_deepnote_index_column": "2019-08-05T00:00:00.000000"
        },
        {
         "AAPL": 196.30999755859375,
         "IBM": 142.02999877929688,
         "_deepnote_index_column": "2019-08-06T00:00:00.000000"
        },
        {
         "AAPL": 195.41000366210938,
         "IBM": 138.74000549316406,
         "_deepnote_index_column": "2019-08-07T00:00:00.000000"
        },
        {
         "AAPL": 200.1999969482422,
         "IBM": 138.4499969482422,
         "_deepnote_index_column": "2019-08-08T00:00:00.000000"
        },
        {
         "AAPL": 201.3000030517578,
         "IBM": 139.27000427246094,
         "_deepnote_index_column": "2019-08-09T00:00:00.000000"
        },
        {
         "AAPL": 199.6199951171875,
         "IBM": 135.66000366210938,
         "_deepnote_index_column": "2019-08-12T00:00:00.000000"
        },
        {
         "AAPL": 201.02000427246094,
         "IBM": 133.8000030517578,
         "_deepnote_index_column": "2019-08-13T00:00:00.000000"
        },
        {
         "AAPL": 203.16000366210938,
         "IBM": 133.91000366210938,
         "_deepnote_index_column": "2019-08-14T00:00:00.000000"
        },
        {
         "AAPL": 203.4600067138672,
         "IBM": 131.22000122070312,
         "_deepnote_index_column": "2019-08-15T00:00:00.000000"
        },
        {
         "AAPL": 204.27999877929688,
         "IBM": 133.0399932861328,
         "_deepnote_index_column": "2019-08-16T00:00:00.000000"
        },
        {
         "AAPL": 210.6199951171875,
         "IBM": 134.8800048828125,
         "_deepnote_index_column": "2019-08-19T00:00:00.000000"
        },
        {
         "AAPL": 210.8800048828125,
         "IBM": 135.24000549316406,
         "_deepnote_index_column": "2019-08-20T00:00:00.000000"
        },
        {
         "AAPL": 212.99000549316406,
         "IBM": 134.9600067138672,
         "_deepnote_index_column": "2019-08-21T00:00:00.000000"
        },
        {
         "AAPL": 213.19000244140625,
         "IBM": 134.69000244140625,
         "_deepnote_index_column": "2019-08-22T00:00:00.000000"
        },
        {
         "AAPL": 209.42999267578125,
         "IBM": 133.6300048828125,
         "_deepnote_index_column": "2019-08-23T00:00:00.000000"
        },
        {
         "AAPL": 205.86000061035156,
         "IBM": 131.0500030517578,
         "_deepnote_index_column": "2019-08-26T00:00:00.000000"
        },
        {
         "AAPL": 207.86000061035156,
         "IBM": 131.1999969482422,
         "_deepnote_index_column": "2019-08-27T00:00:00.000000"
        },
        {
         "AAPL": 204.10000610351562,
         "IBM": 130.44000244140625,
         "_deepnote_index_column": "2019-08-28T00:00:00.000000"
        },
        {
         "AAPL": 208.5,
         "IBM": 134.17999267578125,
         "_deepnote_index_column": "2019-08-29T00:00:00.000000"
        },
        {
         "AAPL": 210.16000366210938,
         "IBM": 135.5800018310547,
         "_deepnote_index_column": "2019-08-30T00:00:00.000000"
        },
        {
         "AAPL": 206.42999267578125,
         "IBM": 134.85000610351562,
         "_deepnote_index_column": "2019-09-03T00:00:00.000000"
        },
        {
         "AAPL": 208.38999938964844,
         "IBM": 135.7100067138672,
         "_deepnote_index_column": "2019-09-04T00:00:00.000000"
        },
        {
         "AAPL": 212,
         "IBM": 138.3000030517578,
         "_deepnote_index_column": "2019-09-05T00:00:00.000000"
        },
        {
         "AAPL": 214.0500030517578,
         "IBM": 141.52000427246094,
         "_deepnote_index_column": "2019-09-06T00:00:00.000000"
        },
        {
         "AAPL": 214.83999633789062,
         "IBM": 140.58999633789062,
         "_deepnote_index_column": "2019-09-09T00:00:00.000000"
        },
        {
         "AAPL": 213.86000061035156,
         "IBM": 143,
         "_deepnote_index_column": "2019-09-10T00:00:00.000000"
        },
        {
         "AAPL": 218.07000732421875,
         "IBM": 144.85000610351562,
         "_deepnote_index_column": "2019-09-11T00:00:00.000000"
        },
        {
         "AAPL": 224.8000030517578,
         "IBM": 144.02999877929688,
         "_deepnote_index_column": "2019-09-12T00:00:00.000000"
        },
        {
         "AAPL": 220,
         "IBM": 144.32000732421875,
         "_deepnote_index_column": "2019-09-13T00:00:00.000000"
        },
        {
         "AAPL": 217.72999572753906,
         "IBM": 142.55999755859375,
         "_deepnote_index_column": "2019-09-16T00:00:00.000000"
        },
        {
         "AAPL": 219.9600067138672,
         "IBM": 142.47999572753906,
         "_deepnote_index_column": "2019-09-17T00:00:00.000000"
        },
        {
         "AAPL": 221.05999755859375,
         "IBM": 142.0500030517578,
         "_deepnote_index_column": "2019-09-18T00:00:00.000000"
        },
        {
         "AAPL": 222.00999450683594,
         "IBM": 142.4600067138672,
         "_deepnote_index_column": "2019-09-19T00:00:00.000000"
        },
        {
         "AAPL": 221.3800048828125,
         "IBM": 143.25,
         "_deepnote_index_column": "2019-09-20T00:00:00.000000"
        },
        {
         "AAPL": 218.9499969482422,
         "IBM": 141.19000244140625,
         "_deepnote_index_column": "2019-09-23T00:00:00.000000"
        },
        {
         "AAPL": 221.02999877929688,
         "IBM": 142.5,
         "_deepnote_index_column": "2019-09-24T00:00:00.000000"
        },
        {
         "AAPL": 218.5500030517578,
         "IBM": 141.74000549316406,
         "_deepnote_index_column": "2019-09-25T00:00:00.000000"
        },
        {
         "AAPL": 220,
         "IBM": 143.1699981689453,
         "_deepnote_index_column": "2019-09-26T00:00:00.000000"
        },
        {
         "AAPL": 220.5399932861328,
         "IBM": 144.41000366210938,
         "_deepnote_index_column": "2019-09-27T00:00:00.000000"
        },
        {
         "AAPL": 220.89999389648438,
         "IBM": 143.72999572753906,
         "_deepnote_index_column": "2019-09-30T00:00:00.000000"
        },
        {
         "AAPL": 225.07000732421875,
         "IBM": 145.58999633789062,
         "_deepnote_index_column": "2019-10-01T00:00:00.000000"
        },
        {
         "AAPL": 223.05999755859375,
         "IBM": 142.19000244140625,
         "_deepnote_index_column": "2019-10-02T00:00:00.000000"
        },
        {
         "AAPL": 218.42999267578125,
         "IBM": 141.6199951171875,
         "_deepnote_index_column": "2019-10-03T00:00:00.000000"
        },
        {
         "AAPL": 225.63999938964844,
         "IBM": 142.05999755859375,
         "_deepnote_index_column": "2019-10-04T00:00:00.000000"
        },
        {
         "AAPL": 226.27000427246094,
         "IBM": 142.25999450683594,
         "_deepnote_index_column": "2019-10-07T00:00:00.000000"
        },
        {
         "AAPL": 225.82000732421875,
         "IBM": 140.24000549316406,
         "_deepnote_index_column": "2019-10-08T00:00:00.000000"
        },
        {
         "AAPL": 227.02999877929688,
         "IBM": 139.77000427246094,
         "_deepnote_index_column": "2019-10-09T00:00:00.000000"
        },
        {
         "AAPL": 227.92999267578125,
         "IBM": 139.77000427246094,
         "_deepnote_index_column": "2019-10-10T00:00:00.000000"
        },
        {
         "AAPL": 232.9499969482422,
         "IBM": 142.77000427246094,
         "_deepnote_index_column": "2019-10-11T00:00:00.000000"
        },
        {
         "AAPL": 234.89999389648438,
         "IBM": 142.30999755859375,
         "_deepnote_index_column": "2019-10-14T00:00:00.000000"
        },
        {
         "AAPL": 236.38999938964844,
         "IBM": 142.5399932861328,
         "_deepnote_index_column": "2019-10-15T00:00:00.000000"
        },
        {
         "AAPL": 233.3699951171875,
         "IBM": 142.49000549316406,
         "_deepnote_index_column": "2019-10-16T00:00:00.000000"
        },
        {
         "AAPL": 235.08999633789062,
         "IBM": 135,
         "_deepnote_index_column": "2019-10-17T00:00:00.000000"
        },
        {
         "AAPL": 234.58999633789062,
         "IBM": 134.22000122070312,
         "_deepnote_index_column": "2019-10-18T00:00:00.000000"
        },
        {
         "AAPL": 237.52000427246094,
         "IBM": 132.61000061035156,
         "_deepnote_index_column": "2019-10-21T00:00:00.000000"
        },
        {
         "AAPL": 241.16000366210938,
         "IBM": 132.5500030517578,
         "_deepnote_index_column": "2019-10-22T00:00:00.000000"
        },
        {
         "AAPL": 242.10000610351562,
         "IBM": 133.52000427246094,
         "_deepnote_index_column": "2019-10-23T00:00:00.000000"
        },
        {
         "AAPL": 244.50999450683594,
         "IBM": 134.8300018310547,
         "_deepnote_index_column": "2019-10-24T00:00:00.000000"
        },
        {
         "AAPL": 243.16000366210938,
         "IBM": 134.1199951171875,
         "_deepnote_index_column": "2019-10-25T00:00:00.000000"
        },
        {
         "AAPL": 247.4199981689453,
         "IBM": 136,
         "_deepnote_index_column": "2019-10-28T00:00:00.000000"
        },
        {
         "AAPL": 248.97000122070312,
         "IBM": 135.4199981689453,
         "_deepnote_index_column": "2019-10-29T00:00:00.000000"
        },
        {
         "AAPL": 244.75999450683594,
         "IBM": 133.8300018310547,
         "_deepnote_index_column": "2019-10-30T00:00:00.000000"
        },
        {
         "AAPL": 247.24000549316406,
         "IBM": 135.11000061035156,
         "_deepnote_index_column": "2019-10-31T00:00:00.000000"
        },
        {
         "AAPL": 249.5399932861328,
         "IBM": 134.5,
         "_deepnote_index_column": "2019-11-01T00:00:00.000000"
        },
        {
         "AAPL": 257.3299865722656,
         "IBM": 136.24000549316406,
         "_deepnote_index_column": "2019-11-04T00:00:00.000000"
        },
        {
         "AAPL": 257.04998779296875,
         "IBM": 137.8000030517578,
         "_deepnote_index_column": "2019-11-05T00:00:00.000000"
        },
        {
         "AAPL": 256.7699890136719,
         "IBM": 138,
         "_deepnote_index_column": "2019-11-06T00:00:00.000000"
        },
        {
         "AAPL": 258.739990234375,
         "IBM": 137.8699951171875,
         "_deepnote_index_column": "2019-11-07T00:00:00.000000"
        },
        {
         "AAPL": 258.69000244140625,
         "IBM": 137.5800018310547,
         "_deepnote_index_column": "2019-11-08T00:00:00.000000"
        },
        {
         "AAPL": 258.29998779296875,
         "IBM": 137.1999969482422,
         "_deepnote_index_column": "2019-11-11T00:00:00.000000"
        },
        {
         "AAPL": 261.54998779296875,
         "IBM": 135.8699951171875,
         "_deepnote_index_column": "2019-11-12T00:00:00.000000"
        },
        {
         "AAPL": 261.1300048828125,
         "IBM": 135.38999938964844,
         "_deepnote_index_column": "2019-11-13T00:00:00.000000"
        },
        {
         "AAPL": 263.75,
         "IBM": 134.1300048828125,
         "_deepnote_index_column": "2019-11-14T00:00:00.000000"
        },
        {
         "AAPL": 263.67999267578125,
         "IBM": 134.38999938964844,
         "_deepnote_index_column": "2019-11-15T00:00:00.000000"
        },
        {
         "AAPL": 265.79998779296875,
         "IBM": 134.3000030517578,
         "_deepnote_index_column": "2019-11-18T00:00:00.000000"
        },
        {
         "AAPL": 267.8999938964844,
         "IBM": 134.8800048828125,
         "_deepnote_index_column": "2019-11-19T00:00:00.000000"
        },
        {
         "AAPL": 265.5400085449219,
         "IBM": 134.05999755859375,
         "_deepnote_index_column": "2019-11-20T00:00:00.000000"
        },
        {
         "AAPL": 263.69000244140625,
         "IBM": 133.39999389648438,
         "_deepnote_index_column": "2019-11-21T00:00:00.000000"
        },
        {
         "AAPL": 262.5899963378906,
         "IBM": 134.19000244140625,
         "_deepnote_index_column": "2019-11-22T00:00:00.000000"
        },
        {
         "AAPL": 262.7099914550781,
         "IBM": 134.47000122070312,
         "_deepnote_index_column": "2019-11-25T00:00:00.000000"
        },
        {
         "AAPL": 266.94000244140625,
         "IBM": 136.14999389648438,
         "_deepnote_index_column": "2019-11-26T00:00:00.000000"
        },
        {
         "AAPL": 265.5799865722656,
         "IBM": 135.35000610351562,
         "_deepnote_index_column": "2019-11-27T00:00:00.000000"
        },
        {
         "AAPL": 266.6000061035156,
         "IBM": 133.60000610351562,
         "_deepnote_index_column": "2019-11-29T00:00:00.000000"
        },
        {
         "AAPL": 267.2699890136719,
         "IBM": 134.4499969482422,
         "_deepnote_index_column": "2019-12-02T00:00:00.000000"
        },
        {
         "AAPL": 258.30999755859375,
         "IBM": 132,
         "_deepnote_index_column": "2019-12-03T00:00:00.000000"
        },
        {
         "AAPL": 261.07000732421875,
         "IBM": 132.86000061035156,
         "_deepnote_index_column": "2019-12-04T00:00:00.000000"
        },
        {
         "AAPL": 263.7900085449219,
         "IBM": 132.99000549316406,
         "_deepnote_index_column": "2019-12-05T00:00:00.000000"
        },
        {
         "AAPL": 267.4800109863281,
         "IBM": 132.75,
         "_deepnote_index_column": "2019-12-06T00:00:00.000000"
        },
        {
         "AAPL": 270,
         "IBM": 133.35000610351562,
         "_deepnote_index_column": "2019-12-09T00:00:00.000000"
        },
        {
         "AAPL": 268.6000061035156,
         "IBM": 133.9199981689453,
         "_deepnote_index_column": "2019-12-10T00:00:00.000000"
        },
        {
         "AAPL": 268.80999755859375,
         "IBM": 134.11000061035156,
         "_deepnote_index_column": "2019-12-11T00:00:00.000000"
        },
        {
         "AAPL": 267.7799987792969,
         "IBM": 133.6999969482422,
         "_deepnote_index_column": "2019-12-12T00:00:00.000000"
        },
        {
         "AAPL": 271.4599914550781,
         "IBM": 134.75,
         "_deepnote_index_column": "2019-12-13T00:00:00.000000"
        },
        {
         "AAPL": 277,
         "IBM": 134.94000244140625,
         "_deepnote_index_column": "2019-12-16T00:00:00.000000"
        },
        {
         "AAPL": 279.57000732421875,
         "IBM": 134.27999877929688,
         "_deepnote_index_column": "2019-12-17T00:00:00.000000"
        },
        {
         "AAPL": 279.79998779296875,
         "IBM": 134.5500030517578,
         "_deepnote_index_column": "2019-12-18T00:00:00.000000"
        },
        {
         "AAPL": 279.5,
         "IBM": 134.4600067138672,
         "_deepnote_index_column": "2019-12-19T00:00:00.000000"
        },
        {
         "AAPL": 282.2300109863281,
         "IBM": 135.74000549316406,
         "_deepnote_index_column": "2019-12-20T00:00:00.000000"
        },
        {
         "AAPL": 280.5299987792969,
         "IBM": 135.77999877929688,
         "_deepnote_index_column": "2019-12-23T00:00:00.000000"
        },
        {
         "AAPL": 284.69000244140625,
         "IBM": 135.61000061035156,
         "_deepnote_index_column": "2019-12-24T00:00:00.000000"
        },
        {
         "AAPL": 284.82000732421875,
         "IBM": 134.97999572753906,
         "_deepnote_index_column": "2019-12-26T00:00:00.000000"
        },
        {
         "AAPL": 291.1199951171875,
         "IBM": 135,
         "_deepnote_index_column": "2019-12-27T00:00:00.000000"
        },
        {
         "AAPL": 289.4599914550781,
         "IBM": 135.1999969482422,
         "_deepnote_index_column": "2019-12-30T00:00:00.000000"
        }
       ]
      },
      "text/plain": "                  AAPL         IBM\nDate                              \n2009-01-02   12.268571   83.889999\n2009-01-05   13.310000   86.419998\n2009-01-06   13.707142   87.110001\n2009-01-07   13.115714   87.830002\n2009-01-08   12.918571   87.809998\n...                ...         ...\n2019-12-23  280.529999  135.779999\n2019-12-24  284.690002  135.610001\n2019-12-26  284.820007  134.979996\n2019-12-27  291.119995  135.000000\n2019-12-30  289.459991  135.199997\n\n[2767 rows x 2 columns]",
      "text/html": "<div>\n<style scoped>\n    .dataframe tbody tr th:only-of-type {\n        vertical-align: middle;\n    }\n\n    .dataframe tbody tr th {\n        vertical-align: top;\n    }\n\n    .dataframe thead th {\n        text-align: right;\n    }\n</style>\n<table border=\"1\" class=\"dataframe\">\n  <thead>\n    <tr style=\"text-align: right;\">\n      <th></th>\n      <th>AAPL</th>\n      <th>IBM</th>\n    </tr>\n    <tr>\n      <th>Date</th>\n      <th></th>\n      <th></th>\n    </tr>\n  </thead>\n  <tbody>\n    <tr>\n      <th>2009-01-02</th>\n      <td>12.268571</td>\n      <td>83.889999</td>\n    </tr>\n    <tr>\n      <th>2009-01-05</th>\n      <td>13.310000</td>\n      <td>86.419998</td>\n    </tr>\n    <tr>\n      <th>2009-01-06</th>\n      <td>13.707142</td>\n      <td>87.110001</td>\n    </tr>\n    <tr>\n      <th>2009-01-07</th>\n      <td>13.115714</td>\n      <td>87.830002</td>\n    </tr>\n    <tr>\n      <th>2009-01-08</th>\n      <td>12.918571</td>\n      <td>87.809998</td>\n    </tr>\n    <tr>\n      <th>...</th>\n      <td>...</td>\n      <td>...</td>\n    </tr>\n    <tr>\n      <th>2019-12-23</th>\n      <td>280.529999</td>\n      <td>135.779999</td>\n    </tr>\n    <tr>\n      <th>2019-12-24</th>\n      <td>284.690002</td>\n      <td>135.610001</td>\n    </tr>\n    <tr>\n      <th>2019-12-26</th>\n      <td>284.820007</td>\n      <td>134.979996</td>\n    </tr>\n    <tr>\n      <th>2019-12-27</th>\n      <td>291.119995</td>\n      <td>135.000000</td>\n    </tr>\n    <tr>\n      <th>2019-12-30</th>\n      <td>289.459991</td>\n      <td>135.199997</td>\n    </tr>\n  </tbody>\n</table>\n<p>2767 rows × 2 columns</p>\n</div>"
     },
     "metadata": {}
    }
   ]
  },
  {
   "cell_type": "code",
   "metadata": {
    "tags": [],
    "cell_id": "00000-5ecfde59-5d5e-4534-b170-da0e4f2b5ace",
    "output_cleared": false,
    "source_hash": "66f71ed9",
    "execution_millis": 31951,
    "execution_start": 1639164311590,
    "deepnote_to_be_reexecuted": false,
    "deepnote_cell_type": "code"
   },
   "source": "%%bash\n$HADOOP_HOME/sbin/start-dfs.sh\n$HADOOP_HOME/sbin/start-yarn.sh\n$HADOOP_HOME/bin/mapred --daemon start historyserver",
   "execution_count": null,
   "outputs": [
    {
     "name": "stdout",
     "text": "Starting namenodes on [localhost]\nStarting datanodes\nStarting secondary namenodes [p-26eb31ce-99fb-4968-850c-9426b88a1f57]\nStarting resourcemanager\nStarting nodemanagers\n",
     "output_type": "stream"
    }
   ]
  },
  {
   "cell_type": "code",
   "metadata": {
    "tags": [],
    "cell_id": "00001-647ef45d-ab0e-4a7f-95a3-35d4df0842aa",
    "output_cleared": false,
    "source_hash": "f41b0d81",
    "execution_millis": 2243,
    "execution_start": 1639164343540,
    "deepnote_to_be_reexecuted": false,
    "deepnote_cell_type": "code"
   },
   "source": "from hdfs3 import HDFileSystem\nhdfs = HDFileSystem(host='localhost', port=9000)\nwith hdfs.open('AAPL_IBM_open.csv', 'wb') as f:\n    data['Open'].to_csv(f,header=True)",
   "execution_count": null,
   "outputs": []
  },
  {
   "cell_type": "code",
   "metadata": {
    "tags": [],
    "cell_id": "00001-d20431cd-2eb1-4d20-a69d-858fde120a78",
    "output_cleared": false,
    "source_hash": "c73ca8c",
    "execution_millis": 4,
    "execution_start": 1639164345799,
    "deepnote_to_be_reexecuted": false,
    "deepnote_output_heights": [
     21.1875
    ],
    "deepnote_cell_type": "code"
   },
   "source": "hdfs.ls('.')",
   "execution_count": null,
   "outputs": [
    {
     "output_type": "execute_result",
     "execution_count": 6,
     "data": {
      "text/plain": "['/user/root/AAPL_IBM_open.csv']"
     },
     "metadata": {}
    }
   ]
  },
  {
   "cell_type": "code",
   "metadata": {
    "tags": [],
    "cell_id": "00001-6679f9eb-4e83-4b53-a22f-078fc6412cd8",
    "output_cleared": false,
    "source_hash": "22f71b47",
    "execution_millis": 73,
    "execution_start": 1639164345808,
    "deepnote_to_be_reexecuted": false,
    "deepnote_cell_type": "code"
   },
   "source": "%%file stock_analysis_spark.py\nfrom pyspark.sql import SparkSession\nfrom pyspark.sql.types import *\nfrom pyspark.sql.functions import *\n\nspark = SparkSession.builder.appName(\"Stock analysis\").getOrCreate()\n\nmySchema = StructType([\n    StructField(\"date\", StringType(), False),\n    StructField(\"apple_opening\", FloatType(), False),\n    StructField(\"samsung_opening\", FloatType(), False),\n    ])\n\ndf = spark.read.format(\"csv\").option(\"header\",\"true\").schema(mySchema).load(\"AAPL_IBM_open.csv\")\n\nresult = df.select(expr(\"substring(date,1,4) as year\"), expr(\"substring(date,6,2) as month\"), col(\"apple_opening\"), col(\"samsung_opening\")) \\\n    .filter(col(\"month\").isin([\"10\",\"11\",\"12\"])) \\\n    .groupBy(\"year\").agg(max(\"apple_opening\"), max(\"samsung_opening\"))\n\nresult.write.format(\"csv\").option(\"path\", \"output\").save()",
   "execution_count": null,
   "outputs": [
    {
     "name": "stdout",
     "text": "Overwriting stock_analysis_spark.py\n",
     "output_type": "stream"
    }
   ]
  },
  {
   "cell_type": "code",
   "metadata": {
    "tags": [],
    "cell_id": "00002-6a73e47e-7814-42fe-975c-ffafbeb6a5b9",
    "output_cleared": false,
    "source_hash": "67805b21",
    "execution_millis": 40127,
    "execution_start": 1639164345884,
    "deepnote_to_be_reexecuted": false,
    "deepnote_cell_type": "code"
   },
   "source": "! $SPARK_HOME/bin/spark-submit --master yarn stock_analysis_spark.py",
   "execution_count": null,
   "outputs": [
    {
     "name": "stdout",
     "text": "WARNING: An illegal reflective access operation has occurred\nWARNING: Illegal reflective access by org.apache.spark.unsafe.Platform (file:/root/spark-3.0.3-bin-without-hadoop/jars/spark-unsafe_2.12-3.0.3.jar) to constructor java.nio.DirectByteBuffer(long,int)\nWARNING: Please consider reporting this to the maintainers of org.apache.spark.unsafe.Platform\nWARNING: Use --illegal-access=warn to enable warnings of further illegal reflective access operations\nWARNING: All illegal access operations will be denied in a future release\n2021-12-10 19:25:55,785 WARN util.NativeCodeLoader: Unable to load native-hadoop library for your platform... using builtin-java classes where applicable\n2021-12-10 19:25:57,846 INFO spark.SparkContext: Running Spark version 3.0.3\n2021-12-10 19:25:57,910 INFO resource.ResourceUtils: ==============================================================\n2021-12-10 19:25:57,911 INFO resource.ResourceUtils: Resources for spark.driver:\n\n2021-12-10 19:25:57,912 INFO resource.ResourceUtils: ==============================================================\n2021-12-10 19:25:57,912 INFO spark.SparkContext: Submitted application: Stock Analysis\n2021-12-10 19:25:57,996 INFO spark.SecurityManager: Changing view acls to: root\n2021-12-10 19:25:57,997 INFO spark.SecurityManager: Changing modify acls to: root\n2021-12-10 19:25:57,997 INFO spark.SecurityManager: Changing view acls groups to: \n2021-12-10 19:25:57,997 INFO spark.SecurityManager: Changing modify acls groups to: \n2021-12-10 19:25:57,997 INFO spark.SecurityManager: SecurityManager: authentication disabled; ui acls disabled; users  with view permissions: Set(root); groups with view permissions: Set(); users  with modify permissions: Set(root); groups with modify permissions: Set()\n2021-12-10 19:25:58,322 INFO util.Utils: Successfully started service 'sparkDriver' on port 38451.\n2021-12-10 19:25:58,387 INFO spark.SparkEnv: Registering MapOutputTracker\n2021-12-10 19:25:58,422 INFO spark.SparkEnv: Registering BlockManagerMaster\n2021-12-10 19:25:58,439 INFO storage.BlockManagerMasterEndpoint: Using org.apache.spark.storage.DefaultTopologyMapper for getting topology information\n2021-12-10 19:25:58,439 INFO storage.BlockManagerMasterEndpoint: BlockManagerMasterEndpoint up\n2021-12-10 19:25:58,509 INFO spark.SparkEnv: Registering BlockManagerMasterHeartbeat\n2021-12-10 19:25:58,520 INFO storage.DiskBlockManager: Created local directory at /tmp/blockmgr-75f3be2c-08d5-4dd9-a9ee-70bcb7c9a0a1\n2021-12-10 19:25:58,541 INFO memory.MemoryStore: MemoryStore started with capacity 434.4 MiB\n2021-12-10 19:25:58,616 INFO spark.SparkEnv: Registering OutputCommitCoordinator\n2021-12-10 19:25:58,795 INFO util.log: Logging initialized @8982ms to org.sparkproject.jetty.util.log.Slf4jLog\n2021-12-10 19:25:58,851 INFO server.Server: jetty-9.4.40.v20210413; built: 2021-04-13T20:42:42.668Z; git: b881a572662e1943a14ae12e7e1207989f218b74; jvm 11.0.12+7-post-Debian-2deb10u1\n2021-12-10 19:25:58,891 INFO server.Server: Started @9079ms\n2021-12-10 19:25:58,919 INFO server.AbstractConnector: Started ServerConnector@4d7c13d0{HTTP/1.1, (http/1.1)}{0.0.0.0:4040}\n2021-12-10 19:25:58,919 INFO util.Utils: Successfully started service 'SparkUI' on port 4040.\n2021-12-10 19:25:58,939 INFO handler.ContextHandler: Started o.s.j.s.ServletContextHandler@64ceb3e4{/jobs,null,AVAILABLE,@Spark}\n2021-12-10 19:25:58,941 INFO handler.ContextHandler: Started o.s.j.s.ServletContextHandler@46457c05{/jobs/json,null,AVAILABLE,@Spark}\n2021-12-10 19:25:58,942 INFO handler.ContextHandler: Started o.s.j.s.ServletContextHandler@55fc2f8b{/jobs/job,null,AVAILABLE,@Spark}\n2021-12-10 19:25:58,945 INFO handler.ContextHandler: Started o.s.j.s.ServletContextHandler@4724f93e{/jobs/job/json,null,AVAILABLE,@Spark}\n2021-12-10 19:25:58,946 INFO handler.ContextHandler: Started o.s.j.s.ServletContextHandler@728205d7{/stages,null,AVAILABLE,@Spark}\n2021-12-10 19:25:58,947 INFO handler.ContextHandler: Started o.s.j.s.ServletContextHandler@1b7c6cf1{/stages/json,null,AVAILABLE,@Spark}\n2021-12-10 19:25:58,947 INFO handler.ContextHandler: Started o.s.j.s.ServletContextHandler@6bfcabc{/stages/stage,null,AVAILABLE,@Spark}\n2021-12-10 19:25:58,949 INFO handler.ContextHandler: Started o.s.j.s.ServletContextHandler@7c5998ab{/stages/stage/json,null,AVAILABLE,@Spark}\n2021-12-10 19:25:58,950 INFO handler.ContextHandler: Started o.s.j.s.ServletContextHandler@12425be6{/stages/pool,null,AVAILABLE,@Spark}\n2021-12-10 19:25:58,951 INFO handler.ContextHandler: Started o.s.j.s.ServletContextHandler@348eb4a5{/stages/pool/json,null,AVAILABLE,@Spark}\n2021-12-10 19:25:58,951 INFO handler.ContextHandler: Started o.s.j.s.ServletContextHandler@16a4ed4f{/storage,null,AVAILABLE,@Spark}\n2021-12-10 19:25:58,952 INFO handler.ContextHandler: Started o.s.j.s.ServletContextHandler@443d007a{/storage/json,null,AVAILABLE,@Spark}\n2021-12-10 19:25:58,953 INFO handler.ContextHandler: Started o.s.j.s.ServletContextHandler@2bed80d1{/storage/rdd,null,AVAILABLE,@Spark}\n2021-12-10 19:25:58,954 INFO handler.ContextHandler: Started o.s.j.s.ServletContextHandler@3f2f6e67{/storage/rdd/json,null,AVAILABLE,@Spark}\n2021-12-10 19:25:58,955 INFO handler.ContextHandler: Started o.s.j.s.ServletContextHandler@745f5c7c{/environment,null,AVAILABLE,@Spark}\n2021-12-10 19:25:58,956 INFO handler.ContextHandler: Started o.s.j.s.ServletContextHandler@4f10335f{/environment/json,null,AVAILABLE,@Spark}\n2021-12-10 19:25:58,957 INFO handler.ContextHandler: Started o.s.j.s.ServletContextHandler@6fb17af7{/executors,null,AVAILABLE,@Spark}\n2021-12-10 19:25:58,977 INFO handler.ContextHandler: Started o.s.j.s.ServletContextHandler@6b77ba7c{/executors/json,null,AVAILABLE,@Spark}\n2021-12-10 19:25:58,978 INFO handler.ContextHandler: Started o.s.j.s.ServletContextHandler@75bcec59{/executors/threadDump,null,AVAILABLE,@Spark}\n2021-12-10 19:25:58,979 INFO handler.ContextHandler: Started o.s.j.s.ServletContextHandler@193d43f0{/executors/threadDump/json,null,AVAILABLE,@Spark}\n2021-12-10 19:25:58,987 INFO handler.ContextHandler: Started o.s.j.s.ServletContextHandler@687edba5{/static,null,AVAILABLE,@Spark}\n2021-12-10 19:25:58,988 INFO handler.ContextHandler: Started o.s.j.s.ServletContextHandler@179cc360{/,null,AVAILABLE,@Spark}\n2021-12-10 19:25:58,989 INFO handler.ContextHandler: Started o.s.j.s.ServletContextHandler@ede5004{/api,null,AVAILABLE,@Spark}\n2021-12-10 19:25:58,990 INFO handler.ContextHandler: Started o.s.j.s.ServletContextHandler@180db31{/jobs/job/kill,null,AVAILABLE,@Spark}\n2021-12-10 19:25:58,991 INFO handler.ContextHandler: Started o.s.j.s.ServletContextHandler@28328fcb{/stages/stage/kill,null,AVAILABLE,@Spark}\n2021-12-10 19:25:58,992 INFO ui.SparkUI: Bound SparkUI to 0.0.0.0, and started at http://p-26eb31ce-99fb-4968-850c-9426b88a1f57.projects-domain.projects.svc.cluster.local:4040\n2021-12-10 19:25:59,465 INFO client.DefaultNoHARMFailoverProxyProvider: Connecting to ResourceManager at /0.0.0.0:8032\n2021-12-10 19:25:59,888 INFO yarn.Client: Requesting a new application from cluster with 1 NodeManagers\n2021-12-10 19:26:00,410 INFO conf.Configuration: resource-types.xml not found\n2021-12-10 19:26:00,410 INFO resource.ResourceUtils: Unable to find 'resource-types.xml'.\n2021-12-10 19:26:00,424 INFO yarn.Client: Verifying our application has not requested more than the maximum memory capability of the cluster (8192 MB per container)\n2021-12-10 19:26:00,424 INFO yarn.Client: Will allocate AM container, with 896 MB memory including 384 MB overhead\n2021-12-10 19:26:00,424 INFO yarn.Client: Setting up container launch context for our AM\n2021-12-10 19:26:00,426 INFO yarn.Client: Setting up the launch environment for our AM container\n2021-12-10 19:26:00,432 INFO yarn.Client: Preparing resources for our AM container\n2021-12-10 19:26:00,463 WARN yarn.Client: Neither spark.yarn.jars nor spark.yarn.archive is set, falling back to uploading libraries under SPARK_HOME.\n2021-12-10 19:26:01,324 INFO yarn.Client: Uploading resource file:/tmp/spark-b13bb428-cc6c-4608-b685-ad1bfe26af71/__spark_libs__12647061385585228036.zip -> hdfs://localhost:9000/user/root/.sparkStaging/application_1639164342409_0001/__spark_libs__12647061385585228036.zip\n2021-12-10 19:26:02,727 INFO yarn.Client: Uploading resource file:/root/spark-3.0.3-bin-without-hadoop/python/lib/pyspark.zip -> hdfs://localhost:9000/user/root/.sparkStaging/application_1639164342409_0001/pyspark.zip\n2021-12-10 19:26:03,161 INFO yarn.Client: Uploading resource file:/root/spark-3.0.3-bin-without-hadoop/python/lib/py4j-0.10.9-src.zip -> hdfs://localhost:9000/user/root/.sparkStaging/application_1639164342409_0001/py4j-0.10.9-src.zip\n2021-12-10 19:26:03,418 INFO yarn.Client: Uploading resource file:/tmp/spark-b13bb428-cc6c-4608-b685-ad1bfe26af71/__spark_conf__18157361588648669913.zip -> hdfs://localhost:9000/user/root/.sparkStaging/application_1639164342409_0001/__spark_conf__.zip\n2021-12-10 19:26:03,912 INFO spark.SecurityManager: Changing view acls to: root\n2021-12-10 19:26:03,912 INFO spark.SecurityManager: Changing modify acls to: root\n2021-12-10 19:26:03,912 INFO spark.SecurityManager: Changing view acls groups to: \n2021-12-10 19:26:03,912 INFO spark.SecurityManager: Changing modify acls groups to: \n2021-12-10 19:26:03,913 INFO spark.SecurityManager: SecurityManager: authentication disabled; ui acls disabled; users  with view permissions: Set(root); groups with view permissions: Set(); users  with modify permissions: Set(root); groups with modify permissions: Set()\n2021-12-10 19:26:03,933 INFO yarn.Client: Submitting application application_1639164342409_0001 to ResourceManager\n2021-12-10 19:26:04,213 INFO impl.YarnClientImpl: Submitted application application_1639164342409_0001\n2021-12-10 19:26:05,218 INFO yarn.Client: Application report for application_1639164342409_0001 (state: ACCEPTED)\n2021-12-10 19:26:05,221 INFO yarn.Client: \n\t client token: N/A\n\t diagnostics: AM container is launched, waiting for AM container to Register with RM\n\t ApplicationMaster host: N/A\n\t ApplicationMaster RPC port: -1\n\t queue: default\n\t start time: 1639164364035\n\t final status: UNDEFINED\n\t tracking URL: http://p-26eb31ce-99fb-4968-850c-9426b88a1f57:8088/proxy/application_1639164342409_0001/\n\t user: root\n2021-12-10 19:26:06,227 INFO yarn.Client: Application report for application_1639164342409_0001 (state: ACCEPTED)\n2021-12-10 19:26:07,288 INFO yarn.Client: Application report for application_1639164342409_0001 (state: ACCEPTED)\n2021-12-10 19:26:08,293 INFO yarn.Client: Application report for application_1639164342409_0001 (state: ACCEPTED)\n2021-12-10 19:26:09,298 INFO yarn.Client: Application report for application_1639164342409_0001 (state: ACCEPTED)\n2021-12-10 19:26:10,301 INFO yarn.Client: Application report for application_1639164342409_0001 (state: ACCEPTED)\n2021-12-10 19:26:11,305 INFO yarn.Client: Application report for application_1639164342409_0001 (state: RUNNING)\n2021-12-10 19:26:11,305 INFO yarn.Client: \n\t client token: N/A\n\t diagnostics: N/A\n\t ApplicationMaster host: 172.3.66.32\n\t ApplicationMaster RPC port: -1\n\t queue: default\n\t start time: 1639164364035\n\t final status: UNDEFINED\n\t tracking URL: http://p-26eb31ce-99fb-4968-850c-9426b88a1f57:8088/proxy/application_1639164342409_0001/\n\t user: root\n2021-12-10 19:26:11,307 INFO cluster.YarnClientSchedulerBackend: Application application_1639164342409_0001 has started running.\n2021-12-10 19:26:11,318 INFO util.Utils: Successfully started service 'org.apache.spark.network.netty.NettyBlockTransferService' on port 36691.\n2021-12-10 19:26:11,318 INFO netty.NettyBlockTransferService: Server created on p-26eb31ce-99fb-4968-850c-9426b88a1f57.projects-domain.projects.svc.cluster.local:36691\n2021-12-10 19:26:11,320 INFO storage.BlockManager: Using org.apache.spark.storage.RandomBlockReplicationPolicy for block replication policy\n2021-12-10 19:26:11,331 INFO storage.BlockManagerMaster: Registering BlockManager BlockManagerId(driver, p-26eb31ce-99fb-4968-850c-9426b88a1f57.projects-domain.projects.svc.cluster.local, 36691, None)\n2021-12-10 19:26:11,389 INFO storage.BlockManagerMasterEndpoint: Registering block manager p-26eb31ce-99fb-4968-850c-9426b88a1f57.projects-domain.projects.svc.cluster.local:36691 with 434.4 MiB RAM, BlockManagerId(driver, p-26eb31ce-99fb-4968-850c-9426b88a1f57.projects-domain.projects.svc.cluster.local, 36691, None)\n2021-12-10 19:26:11,400 INFO storage.BlockManagerMaster: Registered BlockManager BlockManagerId(driver, p-26eb31ce-99fb-4968-850c-9426b88a1f57.projects-domain.projects.svc.cluster.local, 36691, None)\n2021-12-10 19:26:11,401 INFO storage.BlockManager: Initialized BlockManager: BlockManagerId(driver, p-26eb31ce-99fb-4968-850c-9426b88a1f57.projects-domain.projects.svc.cluster.local, 36691, None)\n2021-12-10 19:26:11,808 INFO handler.ContextHandler: Started o.s.j.s.ServletContextHandler@3e1f82f5{/metrics/json,null,AVAILABLE,@Spark}\n2021-12-10 19:26:11,893 INFO cluster.YarnClientSchedulerBackend: Add WebUI Filter. org.apache.hadoop.yarn.server.webproxy.amfilter.AmIpFilter, Map(PROXY_HOSTS -> p-26eb31ce-99fb-4968-850c-9426b88a1f57, PROXY_URI_BASES -> http://p-26eb31ce-99fb-4968-850c-9426b88a1f57:8088/proxy/application_1639164342409_0001), /proxy/application_1639164342409_0001\n2021-12-10 19:26:13,304 INFO cluster.YarnSchedulerBackend$YarnSchedulerEndpoint: ApplicationMaster registered as NettyRpcEndpointRef(spark-client://YarnAM)\n2021-12-10 19:26:18,600 INFO resource.ResourceProfile: Default ResourceProfile created, executor resources: Map(cores -> name: cores, amount: 1, script: , vendor: , memory -> name: memory, amount: 1024, script: , vendor: ), task resources: Map(cpus -> name: cpus, amount: 1.0)\n2021-12-10 19:26:21,610 INFO cluster.YarnSchedulerBackend$YarnDriverEndpoint: Registered executor NettyRpcEndpointRef(spark-client://Executor) (172.3.66.32:56544) with ID 1\n2021-12-10 19:26:22,205 INFO storage.BlockManagerMasterEndpoint: Registering block manager p-26eb31ce-99fb-4968-850c-9426b88a1f57.projects-domain.projects.svc.cluster.local:43217 with 434.4 MiB RAM, BlockManagerId(1, p-26eb31ce-99fb-4968-850c-9426b88a1f57.projects-domain.projects.svc.cluster.local, 43217, None)\n2021-12-10 19:26:23,818 INFO cluster.YarnSchedulerBackend$YarnDriverEndpoint: Registered executor NettyRpcEndpointRef(spark-client://Executor) (172.3.66.32:56592) with ID 2\n2021-12-10 19:26:23,897 INFO cluster.YarnClientSchedulerBackend: SchedulerBackend is ready for scheduling beginning after reached minRegisteredResourcesRatio: 0.8\n2021-12-10 19:26:24,109 INFO storage.BlockManagerMasterEndpoint: Registering block manager p-26eb31ce-99fb-4968-850c-9426b88a1f57.projects-domain.projects.svc.cluster.local:34879 with 434.4 MiB RAM, BlockManagerId(2, p-26eb31ce-99fb-4968-850c-9426b88a1f57.projects-domain.projects.svc.cluster.local, 34879, None)\n2021-12-10 19:26:24,394 INFO internal.SharedState: Setting hive.metastore.warehouse.dir ('null') to the value of spark.sql.warehouse.dir ('file:/work/spark-warehouse').\n2021-12-10 19:26:24,395 INFO internal.SharedState: Warehouse path is 'file:/work/spark-warehouse'.\n2021-12-10 19:26:24,407 INFO ui.ServerInfo: Adding filter to /SQL: org.apache.hadoop.yarn.server.webproxy.amfilter.AmIpFilter\n2021-12-10 19:26:24,410 INFO handler.ContextHandler: Started o.s.j.s.ServletContextHandler@49e5be16{/SQL,null,AVAILABLE,@Spark}\n2021-12-10 19:26:24,410 INFO ui.ServerInfo: Adding filter to /SQL/json: org.apache.hadoop.yarn.server.webproxy.amfilter.AmIpFilter\n2021-12-10 19:26:24,411 INFO handler.ContextHandler: Started o.s.j.s.ServletContextHandler@5c7c5cad{/SQL/json,null,AVAILABLE,@Spark}\n2021-12-10 19:26:24,412 INFO ui.ServerInfo: Adding filter to /SQL/execution: org.apache.hadoop.yarn.server.webproxy.amfilter.AmIpFilter\n2021-12-10 19:26:24,413 INFO handler.ContextHandler: Started o.s.j.s.ServletContextHandler@56e35a77{/SQL/execution,null,AVAILABLE,@Spark}\n2021-12-10 19:26:24,413 INFO ui.ServerInfo: Adding filter to /SQL/execution/json: org.apache.hadoop.yarn.server.webproxy.amfilter.AmIpFilter\n2021-12-10 19:26:24,414 INFO handler.ContextHandler: Started o.s.j.s.ServletContextHandler@5ffbb9f4{/SQL/execution/json,null,AVAILABLE,@Spark}\n2021-12-10 19:26:24,415 INFO ui.ServerInfo: Adding filter to /static/sql: org.apache.hadoop.yarn.server.webproxy.amfilter.AmIpFilter\n2021-12-10 19:26:24,417 INFO handler.ContextHandler: Started o.s.j.s.ServletContextHandler@6fbb5db2{/static/sql,null,AVAILABLE,@Spark}\nTraceback (most recent call last):\n  File \"/work/stock_analysis_spark.py\", line 14, in <module>\n    df = spark.read.format(\"csv\").option(\"header\", \"true\").schema(mySchema).load('APPL_IBM_open.csv')\n  File \"/root/spark-3.0.3-bin-without-hadoop/python/lib/pyspark.zip/pyspark/sql/readwriter.py\", line 178, in load\n  File \"/root/spark-3.0.3-bin-without-hadoop/python/lib/py4j-0.10.9-src.zip/py4j/java_gateway.py\", line 1305, in __call__\n  File \"/root/spark-3.0.3-bin-without-hadoop/python/lib/pyspark.zip/pyspark/sql/utils.py\", line 134, in deco\n  File \"<string>\", line 3, in raise_from\npyspark.sql.utils.AnalysisException: Path does not exist: hdfs://localhost:9000/user/root/APPL_IBM_open.csv;\n2021-12-10 19:26:25,322 INFO spark.SparkContext: Invoking stop() from shutdown hook\n2021-12-10 19:26:25,329 INFO server.AbstractConnector: Stopped Spark@4d7c13d0{HTTP/1.1, (http/1.1)}{0.0.0.0:4040}\n2021-12-10 19:26:25,330 INFO ui.SparkUI: Stopped Spark web UI at http://p-26eb31ce-99fb-4968-850c-9426b88a1f57.projects-domain.projects.svc.cluster.local:4040\n2021-12-10 19:26:25,334 INFO cluster.YarnClientSchedulerBackend: Interrupting monitor thread\n2021-12-10 19:26:25,389 INFO cluster.YarnClientSchedulerBackend: Shutting down all executors\n2021-12-10 19:26:25,390 INFO cluster.YarnSchedulerBackend$YarnDriverEndpoint: Asking each executor to shut down\n2021-12-10 19:26:25,400 INFO cluster.YarnClientSchedulerBackend: YARN client scheduler backend Stopped\n2021-12-10 19:26:25,414 INFO spark.MapOutputTrackerMasterEndpoint: MapOutputTrackerMasterEndpoint stopped!\n2021-12-10 19:26:25,511 INFO memory.MemoryStore: MemoryStore cleared\n2021-12-10 19:26:25,512 INFO storage.BlockManager: BlockManager stopped\n2021-12-10 19:26:25,579 INFO storage.BlockManagerMaster: BlockManagerMaster stopped\n2021-12-10 19:26:25,583 INFO scheduler.OutputCommitCoordinator$OutputCommitCoordinatorEndpoint: OutputCommitCoordinator stopped!\n2021-12-10 19:26:25,681 INFO spark.SparkContext: Successfully stopped SparkContext\n2021-12-10 19:26:25,682 INFO util.ShutdownHookManager: Shutdown hook called\n2021-12-10 19:26:25,682 INFO util.ShutdownHookManager: Deleting directory /tmp/spark-685a6971-1321-4dc8-9a6c-ee598e43018b\n2021-12-10 19:26:25,686 INFO util.ShutdownHookManager: Deleting directory /tmp/spark-b13bb428-cc6c-4608-b685-ad1bfe26af71\n2021-12-10 19:26:25,695 INFO util.ShutdownHookManager: Deleting directory /tmp/spark-b13bb428-cc6c-4608-b685-ad1bfe26af71/pyspark-bd0549f8-5bf8-430c-b7d9-3c488682962b\n",
     "output_type": "stream"
    }
   ]
  },
  {
   "cell_type": "code",
   "metadata": {
    "tags": [],
    "cell_id": "00004-e3a57f18-2ed0-4de6-a232-778d00f1814a",
    "output_cleared": false,
    "source_hash": "7f00156a",
    "execution_millis": 3988,
    "execution_start": 1639164386015,
    "deepnote_to_be_reexecuted": false,
    "deepnote_cell_type": "code"
   },
   "source": "! $HADOOP_HOME/bin/hdfs dfs -get output .",
   "execution_count": null,
   "outputs": [
    {
     "name": "stdout",
     "text": "get: `output': No such file or directory\r\n",
     "output_type": "stream"
    }
   ]
  },
  {
   "cell_type": "code",
   "metadata": {
    "tags": [],
    "cell_id": "00003-cee65112-8e33-4198-a18b-c2d6a16af25d",
    "output_cleared": false,
    "source_hash": "54925d8",
    "execution_millis": 68781,
    "execution_start": 1639164390008,
    "deepnote_to_be_reexecuted": false,
    "deepnote_cell_type": "code"
   },
   "source": "%%bash\n$HADOOP_HOME/bin/mapred --daemon stop historyserver\n$HADOOP_HOME/sbin/stop-yarn.sh\n$HADOOP_HOME/sbin/stop-dfs.sh\n",
   "execution_count": null,
   "outputs": [
    {
     "name": "stdout",
     "text": "Stopping nodemanagers\nlocalhost: WARNING: nodemanager did not stop gracefully after 5 seconds: Trying to kill with kill -9\nlocalhost: ERROR: Unable to kill 845\nStopping resourcemanager\nStopping namenodes on [localhost]\nlocalhost: WARNING: namenode did not stop gracefully after 5 seconds: Trying to kill with kill -9\nlocalhost: ERROR: Unable to kill 253\nStopping datanodes\nlocalhost: WARNING: datanode did not stop gracefully after 5 seconds: Trying to kill with kill -9\nlocalhost: ERROR: Unable to kill 347\nStopping secondary namenodes [p-26eb31ce-99fb-4968-850c-9426b88a1f57]\np-26eb31ce-99fb-4968-850c-9426b88a1f57: WARNING: secondarynamenode did not stop gracefully after 5 seconds: Trying to kill with kill -9\np-26eb31ce-99fb-4968-850c-9426b88a1f57: ERROR: Unable to kill 511\nWARNING: historyserver did not stop gracefully after 5 seconds: Trying to kill with kill -9\nERROR: Unable to kill 1010\nWARNING: resourcemanager did not stop gracefully after 5 seconds: Trying to kill with kill -9\nERROR: Unable to kill 758\n",
     "output_type": "stream"
    }
   ]
  },
  {
   "cell_type": "code",
   "metadata": {
    "tags": [],
    "cell_id": "00010-0f69ca07-5291-42ee-b551-3703a187b4d7",
    "deepnote_to_be_reexecuted": false,
    "source_hash": "b623e53d",
    "execution_start": 1639164458788,
    "execution_millis": 0,
    "deepnote_cell_type": "code"
   },
   "source": "",
   "execution_count": null,
   "outputs": []
  },
  {
   "cell_type": "markdown",
   "source": "<a style='text-decoration:none;line-height:16px;display:flex;color:#5B5B62;padding:10px;justify-content:end;' href='https://deepnote.com?utm_source=created-in-deepnote-cell&projectId=26eb31ce-99fb-4968-850c-9426b88a1f57' target=\"_blank\">\n<img alt='Created in deepnote.com' style='display:inline;max-height:16px;margin:0px;margin-right:7.5px;' src='data:image/svg+xml;base64,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' > </img>\nCreated in <span style='font-weight:600;margin-left:4px;'>Deepnote</span></a>",
   "metadata": {
    "tags": [],
    "created_in_deepnote_cell": true,
    "deepnote_cell_type": "markdown"
   }
  }
 ],
 "nbformat": 4,
 "nbformat_minor": 2,
 "metadata": {
  "orig_nbformat": 2,
  "deepnote_notebook_id": "6acb2c26-ddc8-48ad-85cb-e025e400398c",
  "deepnote_execution_queue": [],
  "deepnote": {}
 }
}